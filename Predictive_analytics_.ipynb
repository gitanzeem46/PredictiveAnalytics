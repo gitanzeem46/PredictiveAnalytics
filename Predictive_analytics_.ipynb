{
 "cells": [
  {
   "cell_type": "code",
   "execution_count": 1,
   "metadata": {
    "id": "mkvj34Lw3Mm2"
   },
   "outputs": [],
   "source": [
    "import pandas as pd\n",
    "import numpy as np"
   ]
  },
  {
   "cell_type": "code",
   "execution_count": 2,
   "metadata": {
    "id": "9nsGVoVR3Ruc"
   },
   "outputs": [],
   "source": [
    "df=pd.read_csv('daily-total-female-births-CA.xls',header=0)"
   ]
  },
  {
   "cell_type": "code",
   "execution_count": null,
   "metadata": {
    "colab": {
     "base_uri": "https://localhost:8080/",
     "height": 424
    },
    "id": "H4tE5t4E3iUS",
    "outputId": "4438b4d1-de0f-41bf-b81e-621070a37a3b"
   },
   "outputs": [],
   "source": []
  },
  {
   "cell_type": "code",
   "execution_count": 3,
   "metadata": {
    "colab": {
     "base_uri": "https://localhost:8080/",
     "height": 206
    },
    "id": "TFctDQsh3i46",
    "outputId": "40f922fc-1911-4333-9a67-32236b21d6e0"
   },
   "outputs": [
    {
     "data": {
      "text/html": [
       "<div>\n",
       "<style scoped>\n",
       "    .dataframe tbody tr th:only-of-type {\n",
       "        vertical-align: middle;\n",
       "    }\n",
       "\n",
       "    .dataframe tbody tr th {\n",
       "        vertical-align: top;\n",
       "    }\n",
       "\n",
       "    .dataframe thead th {\n",
       "        text-align: right;\n",
       "    }\n",
       "</style>\n",
       "<table border=\"1\" class=\"dataframe\">\n",
       "  <thead>\n",
       "    <tr style=\"text-align: right;\">\n",
       "      <th></th>\n",
       "      <th>date</th>\n",
       "      <th>births</th>\n",
       "    </tr>\n",
       "  </thead>\n",
       "  <tbody>\n",
       "    <tr>\n",
       "      <th>0</th>\n",
       "      <td>1959-01-01</td>\n",
       "      <td>35</td>\n",
       "    </tr>\n",
       "    <tr>\n",
       "      <th>1</th>\n",
       "      <td>1959-01-02</td>\n",
       "      <td>32</td>\n",
       "    </tr>\n",
       "    <tr>\n",
       "      <th>2</th>\n",
       "      <td>1959-01-03</td>\n",
       "      <td>30</td>\n",
       "    </tr>\n",
       "    <tr>\n",
       "      <th>3</th>\n",
       "      <td>1959-01-04</td>\n",
       "      <td>31</td>\n",
       "    </tr>\n",
       "    <tr>\n",
       "      <th>4</th>\n",
       "      <td>1959-01-05</td>\n",
       "      <td>44</td>\n",
       "    </tr>\n",
       "  </tbody>\n",
       "</table>\n",
       "</div>"
      ],
      "text/plain": [
       "         date  births\n",
       "0  1959-01-01      35\n",
       "1  1959-01-02      32\n",
       "2  1959-01-03      30\n",
       "3  1959-01-04      31\n",
       "4  1959-01-05      44"
      ]
     },
     "execution_count": 3,
     "metadata": {},
     "output_type": "execute_result"
    }
   ],
   "source": [
    "df.head()"
   ]
  },
  {
   "cell_type": "code",
   "execution_count": 4,
   "metadata": {
    "colab": {
     "base_uri": "https://localhost:8080/"
    },
    "id": "jsy_jU-Q3x-q",
    "outputId": "be29d058-d05f-4b9e-f2b9-2960411ff842"
   },
   "outputs": [
    {
     "data": {
      "text/plain": [
       "dtype('O')"
      ]
     },
     "execution_count": 4,
     "metadata": {},
     "output_type": "execute_result"
    }
   ],
   "source": [
    "df['date'].dtype"
   ]
  },
  {
   "cell_type": "markdown",
   "metadata": {
    "id": "kugBhi-W5cWs"
   },
   "source": [
    "Loading data with parse_dates"
   ]
  },
  {
   "cell_type": "code",
   "execution_count": 5,
   "metadata": {},
   "outputs": [],
   "source": [
    "#parse_dates=[0] ka matlab hai ki pehla column (index 0) ko date format me convert karna.\n",
    "#Pandas us column ke data ko datetime format me change kar deta hai, jo aage analysis ke liye useful hota hai."
   ]
  },
  {
   "cell_type": "code",
   "execution_count": 6,
   "metadata": {
    "id": "hTCwb_Xz4xB7"
   },
   "outputs": [],
   "source": [
    "df2=pd.read_csv('daily-total-female-births-CA.xls',header=0,parse_dates=[0])"
   ]
  },
  {
   "cell_type": "code",
   "execution_count": 7,
   "metadata": {
    "colab": {
     "base_uri": "https://localhost:8080/",
     "height": 206
    },
    "id": "ozrdjmwd5Xjx",
    "outputId": "433fb264-a824-4d65-b392-0db9dea4227e"
   },
   "outputs": [
    {
     "data": {
      "text/html": [
       "<div>\n",
       "<style scoped>\n",
       "    .dataframe tbody tr th:only-of-type {\n",
       "        vertical-align: middle;\n",
       "    }\n",
       "\n",
       "    .dataframe tbody tr th {\n",
       "        vertical-align: top;\n",
       "    }\n",
       "\n",
       "    .dataframe thead th {\n",
       "        text-align: right;\n",
       "    }\n",
       "</style>\n",
       "<table border=\"1\" class=\"dataframe\">\n",
       "  <thead>\n",
       "    <tr style=\"text-align: right;\">\n",
       "      <th></th>\n",
       "      <th>date</th>\n",
       "      <th>births</th>\n",
       "    </tr>\n",
       "  </thead>\n",
       "  <tbody>\n",
       "    <tr>\n",
       "      <th>0</th>\n",
       "      <td>1959-01-01</td>\n",
       "      <td>35</td>\n",
       "    </tr>\n",
       "    <tr>\n",
       "      <th>1</th>\n",
       "      <td>1959-01-02</td>\n",
       "      <td>32</td>\n",
       "    </tr>\n",
       "    <tr>\n",
       "      <th>2</th>\n",
       "      <td>1959-01-03</td>\n",
       "      <td>30</td>\n",
       "    </tr>\n",
       "    <tr>\n",
       "      <th>3</th>\n",
       "      <td>1959-01-04</td>\n",
       "      <td>31</td>\n",
       "    </tr>\n",
       "    <tr>\n",
       "      <th>4</th>\n",
       "      <td>1959-01-05</td>\n",
       "      <td>44</td>\n",
       "    </tr>\n",
       "  </tbody>\n",
       "</table>\n",
       "</div>"
      ],
      "text/plain": [
       "        date  births\n",
       "0 1959-01-01      35\n",
       "1 1959-01-02      32\n",
       "2 1959-01-03      30\n",
       "3 1959-01-04      31\n",
       "4 1959-01-05      44"
      ]
     },
     "execution_count": 7,
     "metadata": {},
     "output_type": "execute_result"
    }
   ],
   "source": [
    "df2.head()"
   ]
  },
  {
   "cell_type": "code",
   "execution_count": 8,
   "metadata": {},
   "outputs": [],
   "source": [
    "#Aapka output dtype('<M8[ns]') aa raha hai, iska matlab hai ki aapka date column \n",
    "#successfully datetime64 format me convert ho gaya hai."
   ]
  },
  {
   "cell_type": "code",
   "execution_count": 9,
   "metadata": {
    "colab": {
     "base_uri": "https://localhost:8080/"
    },
    "id": "h3Q29di_5axU",
    "outputId": "9b5dbd0a-3ca5-42f0-bdde-ec19f7f32b33"
   },
   "outputs": [
    {
     "data": {
      "text/plain": [
       "dtype('<M8[ns]')"
      ]
     },
     "execution_count": 9,
     "metadata": {},
     "output_type": "execute_result"
    }
   ],
   "source": [
    "df2['date'].dtype ##datetime64[ns] (if dates are stored as a specific date/time format that Pandas understands)"
   ]
  },
  {
   "cell_type": "markdown",
   "metadata": {
    "id": "8K1K4K6v5qGM"
   },
   "source": [
    "Loading data as series"
   ]
  },
  {
   "cell_type": "code",
   "execution_count": 10,
   "metadata": {},
   "outputs": [],
   "source": [
    "#header=0:\n",
    "\n",
    "#Pehli row ko column names ke taur par use karta hai.\n",
    "#parse_dates=[0]:\n",
    "\n",
    "#Pehla column (index 0) ko datetime format me convert karta hai.\n",
    "#index_col=0:\n",
    "\n",
    "#Pehle column ko index bana deta hai.\n",
    "#Agar pehla column date hai, toh aapke DataFrame me dates index ban jayenge, jo time series analysis ke liye bahut helpful hai.\n",
    "#.squeeze(\"columns\"):\n",
    "\n",
    "#Agar DataFrame me sirf ek hi column bacha hai, toh usse ek Pandas Series me convert kar deta hai.\n",
    "#Isse aapka data ek simple Series me aa jata hai, jisme index date hote hain aur values birth counts hoti hain."
   ]
  },
  {
   "cell_type": "code",
   "execution_count": 11,
   "metadata": {
    "id": "zFJkutAd5avM"
   },
   "outputs": [],
   "source": [
    "series=pd.read_csv('daily-total-female-births-CA.xls',parse_dates=[0],header=0,index_col=0).squeeze(\"columns\")"
   ]
  },
  {
   "cell_type": "markdown",
   "metadata": {
    "id": "6qMTp3LJ6su9"
   },
   "source": [
    "header=0:the first row is considered as the header.parse_date=[0]:the first column (data column) is parsed as a datatime object.index_col=0:the firstcolumn is set as the index.squeeze(\"columns\"):converts a single-column dataframe into series"
   ]
  },
  {
   "cell_type": "code",
   "execution_count": 12,
   "metadata": {
    "colab": {
     "base_uri": "https://localhost:8080/",
     "height": 272
    },
    "id": "uPODlF3P5asU",
    "outputId": "ba5aef17-0c17-49a3-a8fb-dc743196e3fa"
   },
   "outputs": [
    {
     "data": {
      "text/plain": [
       "date\n",
       "1959-01-01    35\n",
       "1959-01-02    32\n",
       "1959-01-03    30\n",
       "1959-01-04    31\n",
       "1959-01-05    44\n",
       "Name: births, dtype: int64"
      ]
     },
     "execution_count": 12,
     "metadata": {},
     "output_type": "execute_result"
    }
   ],
   "source": [
    "series.head()"
   ]
  },
  {
   "cell_type": "markdown",
   "metadata": {
    "id": "epX0GT-H7nq9"
   },
   "source": [
    "#exploring time series "
   ]
  },
  {
   "cell_type": "code",
   "execution_count": 13,
   "metadata": {
    "colab": {
     "base_uri": "https://localhost:8080/"
    },
    "id": "kvRcu5KF5apk",
    "outputId": "c3e250af-dd12-4e13-c188-80febf1c915b"
   },
   "outputs": [
    {
     "data": {
      "text/plain": [
       "(365,)"
      ]
     },
     "execution_count": 13,
     "metadata": {},
     "output_type": "execute_result"
    }
   ],
   "source": [
    "series.shape"
   ]
  },
  {
   "cell_type": "code",
   "execution_count": 14,
   "metadata": {
    "colab": {
     "base_uri": "https://localhost:8080/"
    },
    "id": "frOLZI1s5al7",
    "outputId": "42938c9b-72bf-4f37-8aa5-ee42fd4bb728"
   },
   "outputs": [
    {
     "data": {
      "text/plain": [
       "(365, 2)"
      ]
     },
     "execution_count": 14,
     "metadata": {},
     "output_type": "execute_result"
    }
   ],
   "source": [
    "df2.shape"
   ]
  },
  {
   "cell_type": "markdown",
   "metadata": {
    "id": "2FWOIji772Rs"
   },
   "source": [
    "Querying by time"
   ]
  },
  {
   "cell_type": "code",
   "execution_count": 15,
   "metadata": {
    "colab": {
     "base_uri": "https://localhost:8080/"
    },
    "id": "-cB0d39o5adM",
    "outputId": "0735b830-3cbd-4f7f-96dc-bf445405cc5b"
   },
   "outputs": [
    {
     "name": "stdout",
     "output_type": "stream",
     "text": [
      "date\n",
      "1959-02-01    23\n",
      "1959-02-02    31\n",
      "1959-02-03    44\n",
      "1959-02-04    38\n",
      "1959-02-05    50\n",
      "1959-02-06    38\n",
      "1959-02-07    51\n",
      "1959-02-08    31\n",
      "1959-02-09    31\n",
      "1959-02-10    51\n",
      "1959-02-11    36\n",
      "1959-02-12    45\n",
      "1959-02-13    51\n",
      "1959-02-14    34\n",
      "1959-02-15    52\n",
      "1959-02-16    47\n",
      "1959-02-17    45\n",
      "1959-02-18    46\n",
      "1959-02-19    39\n",
      "1959-02-20    48\n",
      "1959-02-21    37\n",
      "1959-02-22    35\n",
      "1959-02-23    52\n",
      "1959-02-24    42\n",
      "1959-02-25    45\n",
      "1959-02-26    39\n",
      "1959-02-27    37\n",
      "1959-02-28    30\n",
      "Name: births, dtype: int64\n"
     ]
    }
   ],
   "source": [
    "print(series['1959-02'])"
   ]
  },
  {
   "cell_type": "code",
   "execution_count": 16,
   "metadata": {
    "colab": {
     "base_uri": "https://localhost:8080/",
     "height": 708
    },
    "id": "aOooq5UV7_5L",
    "outputId": "bd7874bd-540f-41e0-c018-5a2bc48a1b5a"
   },
   "outputs": [
    {
     "data": {
      "text/html": [
       "<div>\n",
       "<style scoped>\n",
       "    .dataframe tbody tr th:only-of-type {\n",
       "        vertical-align: middle;\n",
       "    }\n",
       "\n",
       "    .dataframe tbody tr th {\n",
       "        vertical-align: top;\n",
       "    }\n",
       "\n",
       "    .dataframe thead th {\n",
       "        text-align: right;\n",
       "    }\n",
       "</style>\n",
       "<table border=\"1\" class=\"dataframe\">\n",
       "  <thead>\n",
       "    <tr style=\"text-align: right;\">\n",
       "      <th></th>\n",
       "      <th>date</th>\n",
       "      <th>births</th>\n",
       "    </tr>\n",
       "  </thead>\n",
       "  <tbody>\n",
       "    <tr>\n",
       "      <th>0</th>\n",
       "      <td>1959-01-01</td>\n",
       "      <td>35</td>\n",
       "    </tr>\n",
       "    <tr>\n",
       "      <th>1</th>\n",
       "      <td>1959-01-02</td>\n",
       "      <td>32</td>\n",
       "    </tr>\n",
       "    <tr>\n",
       "      <th>2</th>\n",
       "      <td>1959-01-03</td>\n",
       "      <td>30</td>\n",
       "    </tr>\n",
       "    <tr>\n",
       "      <th>3</th>\n",
       "      <td>1959-01-04</td>\n",
       "      <td>31</td>\n",
       "    </tr>\n",
       "    <tr>\n",
       "      <th>4</th>\n",
       "      <td>1959-01-05</td>\n",
       "      <td>44</td>\n",
       "    </tr>\n",
       "    <tr>\n",
       "      <th>5</th>\n",
       "      <td>1959-01-06</td>\n",
       "      <td>29</td>\n",
       "    </tr>\n",
       "    <tr>\n",
       "      <th>6</th>\n",
       "      <td>1959-01-07</td>\n",
       "      <td>45</td>\n",
       "    </tr>\n",
       "    <tr>\n",
       "      <th>7</th>\n",
       "      <td>1959-01-08</td>\n",
       "      <td>43</td>\n",
       "    </tr>\n",
       "    <tr>\n",
       "      <th>8</th>\n",
       "      <td>1959-01-09</td>\n",
       "      <td>38</td>\n",
       "    </tr>\n",
       "    <tr>\n",
       "      <th>9</th>\n",
       "      <td>1959-01-10</td>\n",
       "      <td>27</td>\n",
       "    </tr>\n",
       "    <tr>\n",
       "      <th>10</th>\n",
       "      <td>1959-01-11</td>\n",
       "      <td>38</td>\n",
       "    </tr>\n",
       "    <tr>\n",
       "      <th>11</th>\n",
       "      <td>1959-01-12</td>\n",
       "      <td>33</td>\n",
       "    </tr>\n",
       "    <tr>\n",
       "      <th>12</th>\n",
       "      <td>1959-01-13</td>\n",
       "      <td>55</td>\n",
       "    </tr>\n",
       "    <tr>\n",
       "      <th>13</th>\n",
       "      <td>1959-01-14</td>\n",
       "      <td>47</td>\n",
       "    </tr>\n",
       "    <tr>\n",
       "      <th>14</th>\n",
       "      <td>1959-01-15</td>\n",
       "      <td>45</td>\n",
       "    </tr>\n",
       "    <tr>\n",
       "      <th>15</th>\n",
       "      <td>1959-01-16</td>\n",
       "      <td>37</td>\n",
       "    </tr>\n",
       "    <tr>\n",
       "      <th>16</th>\n",
       "      <td>1959-01-17</td>\n",
       "      <td>50</td>\n",
       "    </tr>\n",
       "    <tr>\n",
       "      <th>17</th>\n",
       "      <td>1959-01-18</td>\n",
       "      <td>43</td>\n",
       "    </tr>\n",
       "    <tr>\n",
       "      <th>18</th>\n",
       "      <td>1959-01-19</td>\n",
       "      <td>41</td>\n",
       "    </tr>\n",
       "    <tr>\n",
       "      <th>19</th>\n",
       "      <td>1959-01-20</td>\n",
       "      <td>52</td>\n",
       "    </tr>\n",
       "    <tr>\n",
       "      <th>20</th>\n",
       "      <td>1959-01-21</td>\n",
       "      <td>34</td>\n",
       "    </tr>\n",
       "  </tbody>\n",
       "</table>\n",
       "</div>"
      ],
      "text/plain": [
       "         date  births\n",
       "0  1959-01-01      35\n",
       "1  1959-01-02      32\n",
       "2  1959-01-03      30\n",
       "3  1959-01-04      31\n",
       "4  1959-01-05      44\n",
       "5  1959-01-06      29\n",
       "6  1959-01-07      45\n",
       "7  1959-01-08      43\n",
       "8  1959-01-09      38\n",
       "9  1959-01-10      27\n",
       "10 1959-01-11      38\n",
       "11 1959-01-12      33\n",
       "12 1959-01-13      55\n",
       "13 1959-01-14      47\n",
       "14 1959-01-15      45\n",
       "15 1959-01-16      37\n",
       "16 1959-01-17      50\n",
       "17 1959-01-18      43\n",
       "18 1959-01-19      41\n",
       "19 1959-01-20      52\n",
       "20 1959-01-21      34"
      ]
     },
     "execution_count": 16,
     "metadata": {},
     "output_type": "execute_result"
    }
   ],
   "source": [
    "df2[(df2['date']>='1959-01-01')&(df2['date']<='1959-01-21')]"
   ]
  },
  {
   "cell_type": "markdown",
   "metadata": {
    "id": "6FTOZ8T-8s-k"
   },
   "source": [
    "Descriptive statistics"
   ]
  },
  {
   "cell_type": "code",
   "execution_count": 17,
   "metadata": {
    "colab": {
     "base_uri": "https://localhost:8080/",
     "height": 300
    },
    "id": "lRxk5fbw8iET",
    "outputId": "33c60cee-b3f4-44d6-d0a0-35b85209a805"
   },
   "outputs": [
    {
     "data": {
      "text/html": [
       "<div>\n",
       "<style scoped>\n",
       "    .dataframe tbody tr th:only-of-type {\n",
       "        vertical-align: middle;\n",
       "    }\n",
       "\n",
       "    .dataframe tbody tr th {\n",
       "        vertical-align: top;\n",
       "    }\n",
       "\n",
       "    .dataframe thead th {\n",
       "        text-align: right;\n",
       "    }\n",
       "</style>\n",
       "<table border=\"1\" class=\"dataframe\">\n",
       "  <thead>\n",
       "    <tr style=\"text-align: right;\">\n",
       "      <th></th>\n",
       "      <th>date</th>\n",
       "      <th>births</th>\n",
       "    </tr>\n",
       "  </thead>\n",
       "  <tbody>\n",
       "    <tr>\n",
       "      <th>count</th>\n",
       "      <td>365</td>\n",
       "      <td>365.000000</td>\n",
       "    </tr>\n",
       "    <tr>\n",
       "      <th>mean</th>\n",
       "      <td>1959-07-02 00:00:00</td>\n",
       "      <td>41.980822</td>\n",
       "    </tr>\n",
       "    <tr>\n",
       "      <th>min</th>\n",
       "      <td>1959-01-01 00:00:00</td>\n",
       "      <td>23.000000</td>\n",
       "    </tr>\n",
       "    <tr>\n",
       "      <th>25%</th>\n",
       "      <td>1959-04-02 00:00:00</td>\n",
       "      <td>37.000000</td>\n",
       "    </tr>\n",
       "    <tr>\n",
       "      <th>50%</th>\n",
       "      <td>1959-07-02 00:00:00</td>\n",
       "      <td>42.000000</td>\n",
       "    </tr>\n",
       "    <tr>\n",
       "      <th>75%</th>\n",
       "      <td>1959-10-01 00:00:00</td>\n",
       "      <td>46.000000</td>\n",
       "    </tr>\n",
       "    <tr>\n",
       "      <th>max</th>\n",
       "      <td>1959-12-31 00:00:00</td>\n",
       "      <td>73.000000</td>\n",
       "    </tr>\n",
       "    <tr>\n",
       "      <th>std</th>\n",
       "      <td>NaN</td>\n",
       "      <td>7.348257</td>\n",
       "    </tr>\n",
       "  </tbody>\n",
       "</table>\n",
       "</div>"
      ],
      "text/plain": [
       "                      date      births\n",
       "count                  365  365.000000\n",
       "mean   1959-07-02 00:00:00   41.980822\n",
       "min    1959-01-01 00:00:00   23.000000\n",
       "25%    1959-04-02 00:00:00   37.000000\n",
       "50%    1959-07-02 00:00:00   42.000000\n",
       "75%    1959-10-01 00:00:00   46.000000\n",
       "max    1959-12-31 00:00:00   73.000000\n",
       "std                    NaN    7.348257"
      ]
     },
     "execution_count": 17,
     "metadata": {},
     "output_type": "execute_result"
    }
   ],
   "source": [
    "df2.describe(include='all')"
   ]
  },
  {
   "cell_type": "code",
   "execution_count": 18,
   "metadata": {
    "colab": {
     "base_uri": "https://localhost:8080/",
     "height": 335
    },
    "id": "V-ayKIO78zWS",
    "outputId": "3908e8fb-1b80-4003-ecca-79930167b754"
   },
   "outputs": [
    {
     "data": {
      "text/plain": [
       "count    365.000000\n",
       "mean      41.980822\n",
       "std        7.348257\n",
       "min       23.000000\n",
       "25%       37.000000\n",
       "50%       42.000000\n",
       "75%       46.000000\n",
       "max       73.000000\n",
       "Name: births, dtype: float64"
      ]
     },
     "execution_count": 18,
     "metadata": {},
     "output_type": "execute_result"
    }
   ],
   "source": [
    "series.describe(include='all')"
   ]
  },
  {
   "cell_type": "markdown",
   "metadata": {
    "id": "nMfJgFW09Qds"
   },
   "source": [
    "Feaure Engineering"
   ]
  },
  {
   "cell_type": "markdown",
   "metadata": {
    "id": "NVYXpC03_DwT"
   },
   "source": [
    "Date time features"
   ]
  },
  {
   "cell_type": "code",
   "execution_count": 19,
   "metadata": {
    "colab": {
     "base_uri": "https://localhost:8080/",
     "height": 206
    },
    "id": "NKA5edeN88Tz",
    "outputId": "84befd0d-0377-47d9-fa73-78b6eebc5ead"
   },
   "outputs": [
    {
     "data": {
      "text/html": [
       "<div>\n",
       "<style scoped>\n",
       "    .dataframe tbody tr th:only-of-type {\n",
       "        vertical-align: middle;\n",
       "    }\n",
       "\n",
       "    .dataframe tbody tr th {\n",
       "        vertical-align: top;\n",
       "    }\n",
       "\n",
       "    .dataframe thead th {\n",
       "        text-align: right;\n",
       "    }\n",
       "</style>\n",
       "<table border=\"1\" class=\"dataframe\">\n",
       "  <thead>\n",
       "    <tr style=\"text-align: right;\">\n",
       "      <th></th>\n",
       "      <th>date</th>\n",
       "      <th>births</th>\n",
       "    </tr>\n",
       "  </thead>\n",
       "  <tbody>\n",
       "    <tr>\n",
       "      <th>0</th>\n",
       "      <td>1959-01-01</td>\n",
       "      <td>35</td>\n",
       "    </tr>\n",
       "    <tr>\n",
       "      <th>1</th>\n",
       "      <td>1959-01-02</td>\n",
       "      <td>32</td>\n",
       "    </tr>\n",
       "    <tr>\n",
       "      <th>2</th>\n",
       "      <td>1959-01-03</td>\n",
       "      <td>30</td>\n",
       "    </tr>\n",
       "    <tr>\n",
       "      <th>3</th>\n",
       "      <td>1959-01-04</td>\n",
       "      <td>31</td>\n",
       "    </tr>\n",
       "    <tr>\n",
       "      <th>4</th>\n",
       "      <td>1959-01-05</td>\n",
       "      <td>44</td>\n",
       "    </tr>\n",
       "  </tbody>\n",
       "</table>\n",
       "</div>"
      ],
      "text/plain": [
       "        date  births\n",
       "0 1959-01-01      35\n",
       "1 1959-01-02      32\n",
       "2 1959-01-03      30\n",
       "3 1959-01-04      31\n",
       "4 1959-01-05      44"
      ]
     },
     "execution_count": 19,
     "metadata": {},
     "output_type": "execute_result"
    }
   ],
   "source": [
    "df2.head(5)"
   ]
  },
  {
   "cell_type": "code",
   "execution_count": 20,
   "metadata": {
    "id": "DZkK7sRJ_HX7"
   },
   "outputs": [],
   "source": [
    "feature=df2.copy()"
   ]
  },
  {
   "cell_type": "code",
   "execution_count": 21,
   "metadata": {
    "id": "-kYhXdcH_ff7"
   },
   "outputs": [],
   "source": [
    "feature['year'] = df2['date'].dt.year"
   ]
  },
  {
   "cell_type": "code",
   "execution_count": 22,
   "metadata": {
    "id": "gMa2R5fB_lqS"
   },
   "outputs": [],
   "source": [
    "feature['month'] = df2['date'].dt.month"
   ]
  },
  {
   "cell_type": "code",
   "execution_count": 23,
   "metadata": {
    "id": "i_P6Fw8V_tex"
   },
   "outputs": [],
   "source": [
    "feature['day'] = df2['date'].dt.day"
   ]
  },
  {
   "cell_type": "code",
   "execution_count": 24,
   "metadata": {
    "colab": {
     "base_uri": "https://localhost:8080/",
     "height": 206
    },
    "id": "k9Ss9uUi_0Ua",
    "outputId": "fec00825-e38b-4c9c-ec30-e9734f5f0232"
   },
   "outputs": [
    {
     "data": {
      "text/html": [
       "<div>\n",
       "<style scoped>\n",
       "    .dataframe tbody tr th:only-of-type {\n",
       "        vertical-align: middle;\n",
       "    }\n",
       "\n",
       "    .dataframe tbody tr th {\n",
       "        vertical-align: top;\n",
       "    }\n",
       "\n",
       "    .dataframe thead th {\n",
       "        text-align: right;\n",
       "    }\n",
       "</style>\n",
       "<table border=\"1\" class=\"dataframe\">\n",
       "  <thead>\n",
       "    <tr style=\"text-align: right;\">\n",
       "      <th></th>\n",
       "      <th>date</th>\n",
       "      <th>births</th>\n",
       "      <th>year</th>\n",
       "      <th>month</th>\n",
       "      <th>day</th>\n",
       "    </tr>\n",
       "  </thead>\n",
       "  <tbody>\n",
       "    <tr>\n",
       "      <th>0</th>\n",
       "      <td>1959-01-01</td>\n",
       "      <td>35</td>\n",
       "      <td>1959</td>\n",
       "      <td>1</td>\n",
       "      <td>1</td>\n",
       "    </tr>\n",
       "    <tr>\n",
       "      <th>1</th>\n",
       "      <td>1959-01-02</td>\n",
       "      <td>32</td>\n",
       "      <td>1959</td>\n",
       "      <td>1</td>\n",
       "      <td>2</td>\n",
       "    </tr>\n",
       "    <tr>\n",
       "      <th>2</th>\n",
       "      <td>1959-01-03</td>\n",
       "      <td>30</td>\n",
       "      <td>1959</td>\n",
       "      <td>1</td>\n",
       "      <td>3</td>\n",
       "    </tr>\n",
       "    <tr>\n",
       "      <th>3</th>\n",
       "      <td>1959-01-04</td>\n",
       "      <td>31</td>\n",
       "      <td>1959</td>\n",
       "      <td>1</td>\n",
       "      <td>4</td>\n",
       "    </tr>\n",
       "    <tr>\n",
       "      <th>4</th>\n",
       "      <td>1959-01-05</td>\n",
       "      <td>44</td>\n",
       "      <td>1959</td>\n",
       "      <td>1</td>\n",
       "      <td>5</td>\n",
       "    </tr>\n",
       "  </tbody>\n",
       "</table>\n",
       "</div>"
      ],
      "text/plain": [
       "        date  births  year  month  day\n",
       "0 1959-01-01      35  1959      1    1\n",
       "1 1959-01-02      32  1959      1    2\n",
       "2 1959-01-03      30  1959      1    3\n",
       "3 1959-01-04      31  1959      1    4\n",
       "4 1959-01-05      44  1959      1    5"
      ]
     },
     "execution_count": 24,
     "metadata": {},
     "output_type": "execute_result"
    }
   ],
   "source": [
    "feature.head()"
   ]
  },
  {
   "cell_type": "markdown",
   "metadata": {
    "id": "9ThtlJKjxrbX"
   },
   "source": [
    "Date:-20-02-25"
   ]
  },
  {
   "cell_type": "markdown",
   "metadata": {
    "id": "g0Xd2B_xwGoe"
   },
   "source": [
    "Lag Features\n",
    "\n",
    "Lag Feature ek time series me pichle (past) values ko represent karta hai.\n",
    "Iska use mainly time series forecasting aur pattern recognition me hota hai."
   ]
  },
  {
   "cell_type": "code",
   "execution_count": 25,
   "metadata": {},
   "outputs": [],
   "source": [
    "#Agar aap lag=1 use karte hain, toh aap pichle din ki birth count ko current row ke saath add karte hain:"
   ]
  },
  {
   "cell_type": "code",
   "execution_count": 26,
   "metadata": {
    "id": "24EDq9b9_5Ui"
   },
   "outputs": [],
   "source": [
    "feature['lag2'] = df2['births'].shift(1) ## takes day as number in shift"
   ]
  },
  {
   "cell_type": "code",
   "execution_count": 27,
   "metadata": {
    "colab": {
     "base_uri": "https://localhost:8080/",
     "height": 269
    },
    "id": "sRYLQ5iAvFuu",
    "outputId": "8c074ad0-196e-4e04-e977-37a46758d0e5"
   },
   "outputs": [
    {
     "data": {
      "text/html": [
       "<div>\n",
       "<style scoped>\n",
       "    .dataframe tbody tr th:only-of-type {\n",
       "        vertical-align: middle;\n",
       "    }\n",
       "\n",
       "    .dataframe tbody tr th {\n",
       "        vertical-align: top;\n",
       "    }\n",
       "\n",
       "    .dataframe thead th {\n",
       "        text-align: right;\n",
       "    }\n",
       "</style>\n",
       "<table border=\"1\" class=\"dataframe\">\n",
       "  <thead>\n",
       "    <tr style=\"text-align: right;\">\n",
       "      <th></th>\n",
       "      <th>date</th>\n",
       "      <th>births</th>\n",
       "      <th>year</th>\n",
       "      <th>month</th>\n",
       "      <th>day</th>\n",
       "      <th>lag2</th>\n",
       "    </tr>\n",
       "  </thead>\n",
       "  <tbody>\n",
       "    <tr>\n",
       "      <th>0</th>\n",
       "      <td>1959-01-01</td>\n",
       "      <td>35</td>\n",
       "      <td>1959</td>\n",
       "      <td>1</td>\n",
       "      <td>1</td>\n",
       "      <td>NaN</td>\n",
       "    </tr>\n",
       "    <tr>\n",
       "      <th>1</th>\n",
       "      <td>1959-01-02</td>\n",
       "      <td>32</td>\n",
       "      <td>1959</td>\n",
       "      <td>1</td>\n",
       "      <td>2</td>\n",
       "      <td>35.0</td>\n",
       "    </tr>\n",
       "    <tr>\n",
       "      <th>2</th>\n",
       "      <td>1959-01-03</td>\n",
       "      <td>30</td>\n",
       "      <td>1959</td>\n",
       "      <td>1</td>\n",
       "      <td>3</td>\n",
       "      <td>32.0</td>\n",
       "    </tr>\n",
       "    <tr>\n",
       "      <th>3</th>\n",
       "      <td>1959-01-04</td>\n",
       "      <td>31</td>\n",
       "      <td>1959</td>\n",
       "      <td>1</td>\n",
       "      <td>4</td>\n",
       "      <td>30.0</td>\n",
       "    </tr>\n",
       "    <tr>\n",
       "      <th>4</th>\n",
       "      <td>1959-01-05</td>\n",
       "      <td>44</td>\n",
       "      <td>1959</td>\n",
       "      <td>1</td>\n",
       "      <td>5</td>\n",
       "      <td>31.0</td>\n",
       "    </tr>\n",
       "    <tr>\n",
       "      <th>5</th>\n",
       "      <td>1959-01-06</td>\n",
       "      <td>29</td>\n",
       "      <td>1959</td>\n",
       "      <td>1</td>\n",
       "      <td>6</td>\n",
       "      <td>44.0</td>\n",
       "    </tr>\n",
       "    <tr>\n",
       "      <th>6</th>\n",
       "      <td>1959-01-07</td>\n",
       "      <td>45</td>\n",
       "      <td>1959</td>\n",
       "      <td>1</td>\n",
       "      <td>7</td>\n",
       "      <td>29.0</td>\n",
       "    </tr>\n",
       "  </tbody>\n",
       "</table>\n",
       "</div>"
      ],
      "text/plain": [
       "        date  births  year  month  day  lag2\n",
       "0 1959-01-01      35  1959      1    1   NaN\n",
       "1 1959-01-02      32  1959      1    2  35.0\n",
       "2 1959-01-03      30  1959      1    3  32.0\n",
       "3 1959-01-04      31  1959      1    4  30.0\n",
       "4 1959-01-05      44  1959      1    5  31.0\n",
       "5 1959-01-06      29  1959      1    6  44.0\n",
       "6 1959-01-07      45  1959      1    7  29.0"
      ]
     },
     "execution_count": 27,
     "metadata": {},
     "output_type": "execute_result"
    }
   ],
   "source": [
    "feature.head(7)"
   ]
  },
  {
   "cell_type": "markdown",
   "metadata": {
    "id": "uq0aHy95x5mm"
   },
   "source": [
    "Window Feature"
   ]
  },
  {
   "cell_type": "code",
   "execution_count": 28,
   "metadata": {},
   "outputs": [],
   "source": [
    "#Window Feature (ya Rolling Window) time series data me ek specific window size ke andar calculations karne me madad karta hai.\n",
    "#Ye time series me moving average, rolling sum, rolling standard deviation, waqera calculate karne ke liye use hota hai."
   ]
  },
  {
   "cell_type": "code",
   "execution_count": 29,
   "metadata": {
    "id": "onoQcnZtvF3h"
   },
   "outputs": [],
   "source": [
    "feature['Roll_mean']=df2['births'].rolling(window=2).mean()"
   ]
  },
  {
   "cell_type": "code",
   "execution_count": 30,
   "metadata": {
    "colab": {
     "base_uri": "https://localhost:8080/",
     "height": 206
    },
    "id": "ZchX79FQvF6X",
    "outputId": "1f0567b2-e3dd-4c8e-a1f0-ad306b49f85a"
   },
   "outputs": [
    {
     "data": {
      "text/html": [
       "<div>\n",
       "<style scoped>\n",
       "    .dataframe tbody tr th:only-of-type {\n",
       "        vertical-align: middle;\n",
       "    }\n",
       "\n",
       "    .dataframe tbody tr th {\n",
       "        vertical-align: top;\n",
       "    }\n",
       "\n",
       "    .dataframe thead th {\n",
       "        text-align: right;\n",
       "    }\n",
       "</style>\n",
       "<table border=\"1\" class=\"dataframe\">\n",
       "  <thead>\n",
       "    <tr style=\"text-align: right;\">\n",
       "      <th></th>\n",
       "      <th>date</th>\n",
       "      <th>births</th>\n",
       "      <th>year</th>\n",
       "      <th>month</th>\n",
       "      <th>day</th>\n",
       "      <th>lag2</th>\n",
       "      <th>Roll_mean</th>\n",
       "    </tr>\n",
       "  </thead>\n",
       "  <tbody>\n",
       "    <tr>\n",
       "      <th>0</th>\n",
       "      <td>1959-01-01</td>\n",
       "      <td>35</td>\n",
       "      <td>1959</td>\n",
       "      <td>1</td>\n",
       "      <td>1</td>\n",
       "      <td>NaN</td>\n",
       "      <td>NaN</td>\n",
       "    </tr>\n",
       "    <tr>\n",
       "      <th>1</th>\n",
       "      <td>1959-01-02</td>\n",
       "      <td>32</td>\n",
       "      <td>1959</td>\n",
       "      <td>1</td>\n",
       "      <td>2</td>\n",
       "      <td>35.0</td>\n",
       "      <td>33.5</td>\n",
       "    </tr>\n",
       "    <tr>\n",
       "      <th>2</th>\n",
       "      <td>1959-01-03</td>\n",
       "      <td>30</td>\n",
       "      <td>1959</td>\n",
       "      <td>1</td>\n",
       "      <td>3</td>\n",
       "      <td>32.0</td>\n",
       "      <td>31.0</td>\n",
       "    </tr>\n",
       "    <tr>\n",
       "      <th>3</th>\n",
       "      <td>1959-01-04</td>\n",
       "      <td>31</td>\n",
       "      <td>1959</td>\n",
       "      <td>1</td>\n",
       "      <td>4</td>\n",
       "      <td>30.0</td>\n",
       "      <td>30.5</td>\n",
       "    </tr>\n",
       "    <tr>\n",
       "      <th>4</th>\n",
       "      <td>1959-01-05</td>\n",
       "      <td>44</td>\n",
       "      <td>1959</td>\n",
       "      <td>1</td>\n",
       "      <td>5</td>\n",
       "      <td>31.0</td>\n",
       "      <td>37.5</td>\n",
       "    </tr>\n",
       "  </tbody>\n",
       "</table>\n",
       "</div>"
      ],
      "text/plain": [
       "        date  births  year  month  day  lag2  Roll_mean\n",
       "0 1959-01-01      35  1959      1    1   NaN        NaN\n",
       "1 1959-01-02      32  1959      1    2  35.0       33.5\n",
       "2 1959-01-03      30  1959      1    3  32.0       31.0\n",
       "3 1959-01-04      31  1959      1    4  30.0       30.5\n",
       "4 1959-01-05      44  1959      1    5  31.0       37.5"
      ]
     },
     "execution_count": 30,
     "metadata": {},
     "output_type": "execute_result"
    }
   ],
   "source": [
    "feature.head(5)"
   ]
  },
  {
   "cell_type": "code",
   "execution_count": 31,
   "metadata": {},
   "outputs": [],
   "source": [
    "#(32+35)/2 rows 1"
   ]
  },
  {
   "cell_type": "code",
   "execution_count": 32,
   "metadata": {
    "id": "Q8v8updVvGAZ"
   },
   "outputs": [],
   "source": [
    "feature['Roll_max'] = df2['births'].rolling(window=3).max()"
   ]
  },
  {
   "cell_type": "code",
   "execution_count": 33,
   "metadata": {
    "colab": {
     "base_uri": "https://localhost:8080/",
     "height": 269
    },
    "id": "ZDb29NajvGCm",
    "outputId": "d2681c08-836b-456b-d4d1-842f38e970b8"
   },
   "outputs": [
    {
     "data": {
      "text/html": [
       "<div>\n",
       "<style scoped>\n",
       "    .dataframe tbody tr th:only-of-type {\n",
       "        vertical-align: middle;\n",
       "    }\n",
       "\n",
       "    .dataframe tbody tr th {\n",
       "        vertical-align: top;\n",
       "    }\n",
       "\n",
       "    .dataframe thead th {\n",
       "        text-align: right;\n",
       "    }\n",
       "</style>\n",
       "<table border=\"1\" class=\"dataframe\">\n",
       "  <thead>\n",
       "    <tr style=\"text-align: right;\">\n",
       "      <th></th>\n",
       "      <th>date</th>\n",
       "      <th>births</th>\n",
       "      <th>year</th>\n",
       "      <th>month</th>\n",
       "      <th>day</th>\n",
       "      <th>lag2</th>\n",
       "      <th>Roll_mean</th>\n",
       "      <th>Roll_max</th>\n",
       "    </tr>\n",
       "  </thead>\n",
       "  <tbody>\n",
       "    <tr>\n",
       "      <th>0</th>\n",
       "      <td>1959-01-01</td>\n",
       "      <td>35</td>\n",
       "      <td>1959</td>\n",
       "      <td>1</td>\n",
       "      <td>1</td>\n",
       "      <td>NaN</td>\n",
       "      <td>NaN</td>\n",
       "      <td>NaN</td>\n",
       "    </tr>\n",
       "    <tr>\n",
       "      <th>1</th>\n",
       "      <td>1959-01-02</td>\n",
       "      <td>32</td>\n",
       "      <td>1959</td>\n",
       "      <td>1</td>\n",
       "      <td>2</td>\n",
       "      <td>35.0</td>\n",
       "      <td>33.5</td>\n",
       "      <td>NaN</td>\n",
       "    </tr>\n",
       "    <tr>\n",
       "      <th>2</th>\n",
       "      <td>1959-01-03</td>\n",
       "      <td>30</td>\n",
       "      <td>1959</td>\n",
       "      <td>1</td>\n",
       "      <td>3</td>\n",
       "      <td>32.0</td>\n",
       "      <td>31.0</td>\n",
       "      <td>35.0</td>\n",
       "    </tr>\n",
       "    <tr>\n",
       "      <th>3</th>\n",
       "      <td>1959-01-04</td>\n",
       "      <td>31</td>\n",
       "      <td>1959</td>\n",
       "      <td>1</td>\n",
       "      <td>4</td>\n",
       "      <td>30.0</td>\n",
       "      <td>30.5</td>\n",
       "      <td>32.0</td>\n",
       "    </tr>\n",
       "    <tr>\n",
       "      <th>4</th>\n",
       "      <td>1959-01-05</td>\n",
       "      <td>44</td>\n",
       "      <td>1959</td>\n",
       "      <td>1</td>\n",
       "      <td>5</td>\n",
       "      <td>31.0</td>\n",
       "      <td>37.5</td>\n",
       "      <td>44.0</td>\n",
       "    </tr>\n",
       "    <tr>\n",
       "      <th>5</th>\n",
       "      <td>1959-01-06</td>\n",
       "      <td>29</td>\n",
       "      <td>1959</td>\n",
       "      <td>1</td>\n",
       "      <td>6</td>\n",
       "      <td>44.0</td>\n",
       "      <td>36.5</td>\n",
       "      <td>44.0</td>\n",
       "    </tr>\n",
       "    <tr>\n",
       "      <th>6</th>\n",
       "      <td>1959-01-07</td>\n",
       "      <td>45</td>\n",
       "      <td>1959</td>\n",
       "      <td>1</td>\n",
       "      <td>7</td>\n",
       "      <td>29.0</td>\n",
       "      <td>37.0</td>\n",
       "      <td>45.0</td>\n",
       "    </tr>\n",
       "  </tbody>\n",
       "</table>\n",
       "</div>"
      ],
      "text/plain": [
       "        date  births  year  month  day  lag2  Roll_mean  Roll_max\n",
       "0 1959-01-01      35  1959      1    1   NaN        NaN       NaN\n",
       "1 1959-01-02      32  1959      1    2  35.0       33.5       NaN\n",
       "2 1959-01-03      30  1959      1    3  32.0       31.0      35.0\n",
       "3 1959-01-04      31  1959      1    4  30.0       30.5      32.0\n",
       "4 1959-01-05      44  1959      1    5  31.0       37.5      44.0\n",
       "5 1959-01-06      29  1959      1    6  44.0       36.5      44.0\n",
       "6 1959-01-07      45  1959      1    7  29.0       37.0      45.0"
      ]
     },
     "execution_count": 33,
     "metadata": {},
     "output_type": "execute_result"
    }
   ],
   "source": [
    "feature.head(7)"
   ]
  },
  {
   "cell_type": "markdown",
   "metadata": {
    "id": "Au-iFhh0zfiu"
   },
   "source": [
    "Expanding feature"
   ]
  },
  {
   "cell_type": "code",
   "execution_count": 34,
   "metadata": {},
   "outputs": [],
   "source": [
    "#Expanding Feature ek time series me shuruaat se lekar current point tak saare data points ko consider karta hai.\n",
    "#Iska use cumulative calculations ke liye hota hai, jaise:\n",
    "\n",
    "#Cumulative Sum (cumsum)\n",
    "#Cumulative Mean (expanding().mean())\n"
   ]
  },
  {
   "cell_type": "code",
   "execution_count": 35,
   "metadata": {
    "id": "Asl52jsdvGE3"
   },
   "outputs": [],
   "source": [
    "feature['Expand_max']=df2['births'].expanding().max()"
   ]
  },
  {
   "cell_type": "code",
   "execution_count": 36,
   "metadata": {
    "colab": {
     "base_uri": "https://localhost:8080/",
     "height": 269
    },
    "id": "fKdnI2mwvGI-",
    "outputId": "d33109e9-724e-4fec-c077-cad0946be6ff"
   },
   "outputs": [
    {
     "data": {
      "text/html": [
       "<div>\n",
       "<style scoped>\n",
       "    .dataframe tbody tr th:only-of-type {\n",
       "        vertical-align: middle;\n",
       "    }\n",
       "\n",
       "    .dataframe tbody tr th {\n",
       "        vertical-align: top;\n",
       "    }\n",
       "\n",
       "    .dataframe thead th {\n",
       "        text-align: right;\n",
       "    }\n",
       "</style>\n",
       "<table border=\"1\" class=\"dataframe\">\n",
       "  <thead>\n",
       "    <tr style=\"text-align: right;\">\n",
       "      <th></th>\n",
       "      <th>date</th>\n",
       "      <th>births</th>\n",
       "      <th>year</th>\n",
       "      <th>month</th>\n",
       "      <th>day</th>\n",
       "      <th>lag2</th>\n",
       "      <th>Roll_mean</th>\n",
       "      <th>Roll_max</th>\n",
       "      <th>Expand_max</th>\n",
       "    </tr>\n",
       "  </thead>\n",
       "  <tbody>\n",
       "    <tr>\n",
       "      <th>0</th>\n",
       "      <td>1959-01-01</td>\n",
       "      <td>35</td>\n",
       "      <td>1959</td>\n",
       "      <td>1</td>\n",
       "      <td>1</td>\n",
       "      <td>NaN</td>\n",
       "      <td>NaN</td>\n",
       "      <td>NaN</td>\n",
       "      <td>35.0</td>\n",
       "    </tr>\n",
       "    <tr>\n",
       "      <th>1</th>\n",
       "      <td>1959-01-02</td>\n",
       "      <td>32</td>\n",
       "      <td>1959</td>\n",
       "      <td>1</td>\n",
       "      <td>2</td>\n",
       "      <td>35.0</td>\n",
       "      <td>33.5</td>\n",
       "      <td>NaN</td>\n",
       "      <td>35.0</td>\n",
       "    </tr>\n",
       "    <tr>\n",
       "      <th>2</th>\n",
       "      <td>1959-01-03</td>\n",
       "      <td>30</td>\n",
       "      <td>1959</td>\n",
       "      <td>1</td>\n",
       "      <td>3</td>\n",
       "      <td>32.0</td>\n",
       "      <td>31.0</td>\n",
       "      <td>35.0</td>\n",
       "      <td>35.0</td>\n",
       "    </tr>\n",
       "    <tr>\n",
       "      <th>3</th>\n",
       "      <td>1959-01-04</td>\n",
       "      <td>31</td>\n",
       "      <td>1959</td>\n",
       "      <td>1</td>\n",
       "      <td>4</td>\n",
       "      <td>30.0</td>\n",
       "      <td>30.5</td>\n",
       "      <td>32.0</td>\n",
       "      <td>35.0</td>\n",
       "    </tr>\n",
       "    <tr>\n",
       "      <th>4</th>\n",
       "      <td>1959-01-05</td>\n",
       "      <td>44</td>\n",
       "      <td>1959</td>\n",
       "      <td>1</td>\n",
       "      <td>5</td>\n",
       "      <td>31.0</td>\n",
       "      <td>37.5</td>\n",
       "      <td>44.0</td>\n",
       "      <td>44.0</td>\n",
       "    </tr>\n",
       "    <tr>\n",
       "      <th>5</th>\n",
       "      <td>1959-01-06</td>\n",
       "      <td>29</td>\n",
       "      <td>1959</td>\n",
       "      <td>1</td>\n",
       "      <td>6</td>\n",
       "      <td>44.0</td>\n",
       "      <td>36.5</td>\n",
       "      <td>44.0</td>\n",
       "      <td>44.0</td>\n",
       "    </tr>\n",
       "    <tr>\n",
       "      <th>6</th>\n",
       "      <td>1959-01-07</td>\n",
       "      <td>45</td>\n",
       "      <td>1959</td>\n",
       "      <td>1</td>\n",
       "      <td>7</td>\n",
       "      <td>29.0</td>\n",
       "      <td>37.0</td>\n",
       "      <td>45.0</td>\n",
       "      <td>45.0</td>\n",
       "    </tr>\n",
       "  </tbody>\n",
       "</table>\n",
       "</div>"
      ],
      "text/plain": [
       "        date  births  year  month  day  lag2  Roll_mean  Roll_max  Expand_max\n",
       "0 1959-01-01      35  1959      1    1   NaN        NaN       NaN        35.0\n",
       "1 1959-01-02      32  1959      1    2  35.0       33.5       NaN        35.0\n",
       "2 1959-01-03      30  1959      1    3  32.0       31.0      35.0        35.0\n",
       "3 1959-01-04      31  1959      1    4  30.0       30.5      32.0        35.0\n",
       "4 1959-01-05      44  1959      1    5  31.0       37.5      44.0        44.0\n",
       "5 1959-01-06      29  1959      1    6  44.0       36.5      44.0        44.0\n",
       "6 1959-01-07      45  1959      1    7  29.0       37.0      45.0        45.0"
      ]
     },
     "execution_count": 36,
     "metadata": {},
     "output_type": "execute_result"
    }
   ],
   "source": [
    "feature.head(7)"
   ]
  },
  {
   "cell_type": "markdown",
   "metadata": {
    "id": "YjdNxEy93Yl-"
   },
   "source": [
    "Resampling\n",
    "\n",
    "upsampling\n",
    "downsampling"
   ]
  },
  {
   "cell_type": "code",
   "execution_count": 37,
   "metadata": {},
   "outputs": [],
   "source": [
    "#Resampling ka matlab hai time series data ki frequency ko badalna ya kam karna:\n",
    "\n",
    "#Upsampling: Data points badhayein (e.g., Daily → Hourly)\n",
    "#Downsampling: Data points kam karein (e.g., Daily → Weekly)"
   ]
  },
  {
   "cell_type": "code",
   "execution_count": 38,
   "metadata": {
    "id": "qmGObJPjvGMY"
   },
   "outputs": [],
   "source": [
    "miles_df=pd.read_csv('us-airlines-monthly-aircraft-miles-flown.csv',header=0,parse_dates=[0])"
   ]
  },
  {
   "cell_type": "code",
   "execution_count": 39,
   "metadata": {
    "colab": {
     "base_uri": "https://localhost:8080/",
     "height": 424
    },
    "id": "tRuyPtQ14YLs",
    "outputId": "b6be5b67-009f-4571-8510-03f9b19e8e27"
   },
   "outputs": [
    {
     "data": {
      "text/html": [
       "<div>\n",
       "<style scoped>\n",
       "    .dataframe tbody tr th:only-of-type {\n",
       "        vertical-align: middle;\n",
       "    }\n",
       "\n",
       "    .dataframe tbody tr th {\n",
       "        vertical-align: top;\n",
       "    }\n",
       "\n",
       "    .dataframe thead th {\n",
       "        text-align: right;\n",
       "    }\n",
       "</style>\n",
       "<table border=\"1\" class=\"dataframe\">\n",
       "  <thead>\n",
       "    <tr style=\"text-align: right;\">\n",
       "      <th></th>\n",
       "      <th>Month</th>\n",
       "      <th>MilesMM</th>\n",
       "    </tr>\n",
       "  </thead>\n",
       "  <tbody>\n",
       "    <tr>\n",
       "      <th>0</th>\n",
       "      <td>1963-01-01</td>\n",
       "      <td>6827</td>\n",
       "    </tr>\n",
       "    <tr>\n",
       "      <th>1</th>\n",
       "      <td>1963-02-01</td>\n",
       "      <td>6178</td>\n",
       "    </tr>\n",
       "    <tr>\n",
       "      <th>2</th>\n",
       "      <td>1963-03-01</td>\n",
       "      <td>7084</td>\n",
       "    </tr>\n",
       "    <tr>\n",
       "      <th>3</th>\n",
       "      <td>1963-04-01</td>\n",
       "      <td>8162</td>\n",
       "    </tr>\n",
       "    <tr>\n",
       "      <th>4</th>\n",
       "      <td>1963-05-01</td>\n",
       "      <td>8462</td>\n",
       "    </tr>\n",
       "    <tr>\n",
       "      <th>...</th>\n",
       "      <td>...</td>\n",
       "      <td>...</td>\n",
       "    </tr>\n",
       "    <tr>\n",
       "      <th>91</th>\n",
       "      <td>1970-08-01</td>\n",
       "      <td>14057</td>\n",
       "    </tr>\n",
       "    <tr>\n",
       "      <th>92</th>\n",
       "      <td>1970-09-01</td>\n",
       "      <td>16234</td>\n",
       "    </tr>\n",
       "    <tr>\n",
       "      <th>93</th>\n",
       "      <td>1970-10-01</td>\n",
       "      <td>12389</td>\n",
       "    </tr>\n",
       "    <tr>\n",
       "      <th>94</th>\n",
       "      <td>1970-11-01</td>\n",
       "      <td>11595</td>\n",
       "    </tr>\n",
       "    <tr>\n",
       "      <th>95</th>\n",
       "      <td>1970-12-01</td>\n",
       "      <td>12772</td>\n",
       "    </tr>\n",
       "  </tbody>\n",
       "</table>\n",
       "<p>96 rows × 2 columns</p>\n",
       "</div>"
      ],
      "text/plain": [
       "        Month  MilesMM\n",
       "0  1963-01-01     6827\n",
       "1  1963-02-01     6178\n",
       "2  1963-03-01     7084\n",
       "3  1963-04-01     8162\n",
       "4  1963-05-01     8462\n",
       "..        ...      ...\n",
       "91 1970-08-01    14057\n",
       "92 1970-09-01    16234\n",
       "93 1970-10-01    12389\n",
       "94 1970-11-01    11595\n",
       "95 1970-12-01    12772\n",
       "\n",
       "[96 rows x 2 columns]"
      ]
     },
     "execution_count": 39,
     "metadata": {},
     "output_type": "execute_result"
    }
   ],
   "source": [
    "miles_df"
   ]
  },
  {
   "cell_type": "code",
   "execution_count": 40,
   "metadata": {},
   "outputs": [],
   "source": [
    "#DownSampling"
   ]
  },
  {
   "cell_type": "code",
   "execution_count": 41,
   "metadata": {
    "id": "DiURTN2l4t9D"
   },
   "outputs": [],
   "source": [
    "quartely_miles_df = miles_df.resample('q',on='Month').mean()"
   ]
  },
  {
   "cell_type": "code",
   "execution_count": 42,
   "metadata": {
    "colab": {
     "base_uri": "https://localhost:8080/",
     "height": 238
    },
    "id": "KgSMrDUm5CKM",
    "outputId": "84783af1-3886-4a1f-ed33-b97e8af16dbd"
   },
   "outputs": [
    {
     "data": {
      "text/html": [
       "<div>\n",
       "<style scoped>\n",
       "    .dataframe tbody tr th:only-of-type {\n",
       "        vertical-align: middle;\n",
       "    }\n",
       "\n",
       "    .dataframe tbody tr th {\n",
       "        vertical-align: top;\n",
       "    }\n",
       "\n",
       "    .dataframe thead th {\n",
       "        text-align: right;\n",
       "    }\n",
       "</style>\n",
       "<table border=\"1\" class=\"dataframe\">\n",
       "  <thead>\n",
       "    <tr style=\"text-align: right;\">\n",
       "      <th></th>\n",
       "      <th>MilesMM</th>\n",
       "    </tr>\n",
       "    <tr>\n",
       "      <th>Month</th>\n",
       "      <th></th>\n",
       "    </tr>\n",
       "  </thead>\n",
       "  <tbody>\n",
       "    <tr>\n",
       "      <th>1963-03-31</th>\n",
       "      <td>6696.333333</td>\n",
       "    </tr>\n",
       "    <tr>\n",
       "      <th>1963-06-30</th>\n",
       "      <td>8756.000000</td>\n",
       "    </tr>\n",
       "    <tr>\n",
       "      <th>1963-09-30</th>\n",
       "      <td>10392.333333</td>\n",
       "    </tr>\n",
       "    <tr>\n",
       "      <th>1963-12-31</th>\n",
       "      <td>7356.333333</td>\n",
       "    </tr>\n",
       "    <tr>\n",
       "      <th>1964-03-31</th>\n",
       "      <td>7287.666667</td>\n",
       "    </tr>\n",
       "    <tr>\n",
       "      <th>1964-06-30</th>\n",
       "      <td>9229.333333</td>\n",
       "    </tr>\n",
       "    <tr>\n",
       "      <th>1964-09-30</th>\n",
       "      <td>10748.333333</td>\n",
       "    </tr>\n",
       "    <tr>\n",
       "      <th>1964-12-31</th>\n",
       "      <td>8132.000000</td>\n",
       "    </tr>\n",
       "    <tr>\n",
       "      <th>1965-03-31</th>\n",
       "      <td>8336.000000</td>\n",
       "    </tr>\n",
       "    <tr>\n",
       "      <th>1965-06-30</th>\n",
       "      <td>10613.000000</td>\n",
       "    </tr>\n",
       "    <tr>\n",
       "      <th>1965-09-30</th>\n",
       "      <td>11160.000000</td>\n",
       "    </tr>\n",
       "    <tr>\n",
       "      <th>1965-12-31</th>\n",
       "      <td>8368.000000</td>\n",
       "    </tr>\n",
       "    <tr>\n",
       "      <th>1966-03-31</th>\n",
       "      <td>8038.000000</td>\n",
       "    </tr>\n",
       "    <tr>\n",
       "      <th>1966-06-30</th>\n",
       "      <td>10799.333333</td>\n",
       "    </tr>\n",
       "    <tr>\n",
       "      <th>1966-09-30</th>\n",
       "      <td>11877.000000</td>\n",
       "    </tr>\n",
       "    <tr>\n",
       "      <th>1966-12-31</th>\n",
       "      <td>9003.666667</td>\n",
       "    </tr>\n",
       "    <tr>\n",
       "      <th>1967-03-31</th>\n",
       "      <td>8742.333333</td>\n",
       "    </tr>\n",
       "    <tr>\n",
       "      <th>1967-06-30</th>\n",
       "      <td>11276.333333</td>\n",
       "    </tr>\n",
       "    <tr>\n",
       "      <th>1967-09-30</th>\n",
       "      <td>12583.000000</td>\n",
       "    </tr>\n",
       "    <tr>\n",
       "      <th>1967-12-31</th>\n",
       "      <td>9570.000000</td>\n",
       "    </tr>\n",
       "    <tr>\n",
       "      <th>1968-03-31</th>\n",
       "      <td>9435.000000</td>\n",
       "    </tr>\n",
       "    <tr>\n",
       "      <th>1968-06-30</th>\n",
       "      <td>10740.666667</td>\n",
       "    </tr>\n",
       "    <tr>\n",
       "      <th>1968-09-30</th>\n",
       "      <td>12458.666667</td>\n",
       "    </tr>\n",
       "    <tr>\n",
       "      <th>1968-12-31</th>\n",
       "      <td>10357.333333</td>\n",
       "    </tr>\n",
       "    <tr>\n",
       "      <th>1969-03-31</th>\n",
       "      <td>10005.666667</td>\n",
       "    </tr>\n",
       "    <tr>\n",
       "      <th>1969-06-30</th>\n",
       "      <td>12049.333333</td>\n",
       "    </tr>\n",
       "    <tr>\n",
       "      <th>1969-09-30</th>\n",
       "      <td>14169.333333</td>\n",
       "    </tr>\n",
       "    <tr>\n",
       "      <th>1969-12-31</th>\n",
       "      <td>11663.666667</td>\n",
       "    </tr>\n",
       "    <tr>\n",
       "      <th>1970-03-31</th>\n",
       "      <td>11621.666667</td>\n",
       "    </tr>\n",
       "    <tr>\n",
       "      <th>1970-06-30</th>\n",
       "      <td>13812.666667</td>\n",
       "    </tr>\n",
       "    <tr>\n",
       "      <th>1970-09-30</th>\n",
       "      <td>14812.666667</td>\n",
       "    </tr>\n",
       "    <tr>\n",
       "      <th>1970-12-31</th>\n",
       "      <td>12252.000000</td>\n",
       "    </tr>\n",
       "  </tbody>\n",
       "</table>\n",
       "</div>"
      ],
      "text/plain": [
       "                 MilesMM\n",
       "Month                   \n",
       "1963-03-31   6696.333333\n",
       "1963-06-30   8756.000000\n",
       "1963-09-30  10392.333333\n",
       "1963-12-31   7356.333333\n",
       "1964-03-31   7287.666667\n",
       "1964-06-30   9229.333333\n",
       "1964-09-30  10748.333333\n",
       "1964-12-31   8132.000000\n",
       "1965-03-31   8336.000000\n",
       "1965-06-30  10613.000000\n",
       "1965-09-30  11160.000000\n",
       "1965-12-31   8368.000000\n",
       "1966-03-31   8038.000000\n",
       "1966-06-30  10799.333333\n",
       "1966-09-30  11877.000000\n",
       "1966-12-31   9003.666667\n",
       "1967-03-31   8742.333333\n",
       "1967-06-30  11276.333333\n",
       "1967-09-30  12583.000000\n",
       "1967-12-31   9570.000000\n",
       "1968-03-31   9435.000000\n",
       "1968-06-30  10740.666667\n",
       "1968-09-30  12458.666667\n",
       "1968-12-31  10357.333333\n",
       "1969-03-31  10005.666667\n",
       "1969-06-30  12049.333333\n",
       "1969-09-30  14169.333333\n",
       "1969-12-31  11663.666667\n",
       "1970-03-31  11621.666667\n",
       "1970-06-30  13812.666667\n",
       "1970-09-30  14812.666667\n",
       "1970-12-31  12252.000000"
      ]
     },
     "execution_count": 42,
     "metadata": {},
     "output_type": "execute_result"
    }
   ],
   "source": [
    "quartely_miles_df"
   ]
  },
  {
   "cell_type": "markdown",
   "metadata": {
    "id": "Ws2Ez1fBUEZR"
   },
   "source": [
    "Date:- 24-2-25"
   ]
  },
  {
   "cell_type": "code",
   "execution_count": 43,
   "metadata": {
    "id": "_Jfvx0n15FU8"
   },
   "outputs": [],
   "source": [
    "yearly_total_miles_df=miles_df.resample('Y',on='Month').sum()"
   ]
  },
  {
   "cell_type": "code",
   "execution_count": 44,
   "metadata": {
    "colab": {
     "base_uri": "https://localhost:8080/",
     "height": 238
    },
    "id": "fsfqltsvUoZX",
    "outputId": "59af8b85-f00c-42cf-f846-fb4e14bb4601"
   },
   "outputs": [
    {
     "data": {
      "text/html": [
       "<div>\n",
       "<style scoped>\n",
       "    .dataframe tbody tr th:only-of-type {\n",
       "        vertical-align: middle;\n",
       "    }\n",
       "\n",
       "    .dataframe tbody tr th {\n",
       "        vertical-align: top;\n",
       "    }\n",
       "\n",
       "    .dataframe thead th {\n",
       "        text-align: right;\n",
       "    }\n",
       "</style>\n",
       "<table border=\"1\" class=\"dataframe\">\n",
       "  <thead>\n",
       "    <tr style=\"text-align: right;\">\n",
       "      <th></th>\n",
       "      <th>MilesMM</th>\n",
       "    </tr>\n",
       "    <tr>\n",
       "      <th>Month</th>\n",
       "      <th></th>\n",
       "    </tr>\n",
       "  </thead>\n",
       "  <tbody>\n",
       "    <tr>\n",
       "      <th>1963-12-31</th>\n",
       "      <td>99603</td>\n",
       "    </tr>\n",
       "    <tr>\n",
       "      <th>1964-12-31</th>\n",
       "      <td>106192</td>\n",
       "    </tr>\n",
       "    <tr>\n",
       "      <th>1965-12-31</th>\n",
       "      <td>115431</td>\n",
       "    </tr>\n",
       "    <tr>\n",
       "      <th>1966-12-31</th>\n",
       "      <td>119154</td>\n",
       "    </tr>\n",
       "    <tr>\n",
       "      <th>1967-12-31</th>\n",
       "      <td>126515</td>\n",
       "    </tr>\n",
       "  </tbody>\n",
       "</table>\n",
       "</div>"
      ],
      "text/plain": [
       "            MilesMM\n",
       "Month              \n",
       "1963-12-31    99603\n",
       "1964-12-31   106192\n",
       "1965-12-31   115431\n",
       "1966-12-31   119154\n",
       "1967-12-31   126515"
      ]
     },
     "execution_count": 44,
     "metadata": {},
     "output_type": "execute_result"
    }
   ],
   "source": [
    "yearly_total_miles_df.head()\n"
   ]
  },
  {
   "cell_type": "markdown",
   "metadata": {
    "id": "VPkDfgH9VIQp"
   },
   "source": [
    "Upsampling"
   ]
  },
  {
   "cell_type": "code",
   "execution_count": 45,
   "metadata": {
    "id": "-zNCffGEUs8f"
   },
   "outputs": [],
   "source": [
    "upsampled_miles_df=miles_df.resample('D',on='Month').mean()"
   ]
  },
  {
   "cell_type": "code",
   "execution_count": 46,
   "metadata": {
    "colab": {
     "base_uri": "https://localhost:8080/",
     "height": 1000
    },
    "id": "H2OPD2F-VVqQ",
    "outputId": "3e695b89-9b51-4814-bb8d-2a8f5682fa59"
   },
   "outputs": [
    {
     "data": {
      "text/html": [
       "<div>\n",
       "<style scoped>\n",
       "    .dataframe tbody tr th:only-of-type {\n",
       "        vertical-align: middle;\n",
       "    }\n",
       "\n",
       "    .dataframe tbody tr th {\n",
       "        vertical-align: top;\n",
       "    }\n",
       "\n",
       "    .dataframe thead th {\n",
       "        text-align: right;\n",
       "    }\n",
       "</style>\n",
       "<table border=\"1\" class=\"dataframe\">\n",
       "  <thead>\n",
       "    <tr style=\"text-align: right;\">\n",
       "      <th></th>\n",
       "      <th>MilesMM</th>\n",
       "    </tr>\n",
       "    <tr>\n",
       "      <th>Month</th>\n",
       "      <th></th>\n",
       "    </tr>\n",
       "  </thead>\n",
       "  <tbody>\n",
       "    <tr>\n",
       "      <th>1963-01-01</th>\n",
       "      <td>6827.0</td>\n",
       "    </tr>\n",
       "    <tr>\n",
       "      <th>1963-01-02</th>\n",
       "      <td>NaN</td>\n",
       "    </tr>\n",
       "    <tr>\n",
       "      <th>1963-01-03</th>\n",
       "      <td>NaN</td>\n",
       "    </tr>\n",
       "    <tr>\n",
       "      <th>1963-01-04</th>\n",
       "      <td>NaN</td>\n",
       "    </tr>\n",
       "    <tr>\n",
       "      <th>1963-01-05</th>\n",
       "      <td>NaN</td>\n",
       "    </tr>\n",
       "    <tr>\n",
       "      <th>1963-01-06</th>\n",
       "      <td>NaN</td>\n",
       "    </tr>\n",
       "    <tr>\n",
       "      <th>1963-01-07</th>\n",
       "      <td>NaN</td>\n",
       "    </tr>\n",
       "    <tr>\n",
       "      <th>1963-01-08</th>\n",
       "      <td>NaN</td>\n",
       "    </tr>\n",
       "    <tr>\n",
       "      <th>1963-01-09</th>\n",
       "      <td>NaN</td>\n",
       "    </tr>\n",
       "    <tr>\n",
       "      <th>1963-01-10</th>\n",
       "      <td>NaN</td>\n",
       "    </tr>\n",
       "    <tr>\n",
       "      <th>1963-01-11</th>\n",
       "      <td>NaN</td>\n",
       "    </tr>\n",
       "    <tr>\n",
       "      <th>1963-01-12</th>\n",
       "      <td>NaN</td>\n",
       "    </tr>\n",
       "    <tr>\n",
       "      <th>1963-01-13</th>\n",
       "      <td>NaN</td>\n",
       "    </tr>\n",
       "    <tr>\n",
       "      <th>1963-01-14</th>\n",
       "      <td>NaN</td>\n",
       "    </tr>\n",
       "    <tr>\n",
       "      <th>1963-01-15</th>\n",
       "      <td>NaN</td>\n",
       "    </tr>\n",
       "    <tr>\n",
       "      <th>1963-01-16</th>\n",
       "      <td>NaN</td>\n",
       "    </tr>\n",
       "    <tr>\n",
       "      <th>1963-01-17</th>\n",
       "      <td>NaN</td>\n",
       "    </tr>\n",
       "    <tr>\n",
       "      <th>1963-01-18</th>\n",
       "      <td>NaN</td>\n",
       "    </tr>\n",
       "    <tr>\n",
       "      <th>1963-01-19</th>\n",
       "      <td>NaN</td>\n",
       "    </tr>\n",
       "    <tr>\n",
       "      <th>1963-01-20</th>\n",
       "      <td>NaN</td>\n",
       "    </tr>\n",
       "    <tr>\n",
       "      <th>1963-01-21</th>\n",
       "      <td>NaN</td>\n",
       "    </tr>\n",
       "    <tr>\n",
       "      <th>1963-01-22</th>\n",
       "      <td>NaN</td>\n",
       "    </tr>\n",
       "    <tr>\n",
       "      <th>1963-01-23</th>\n",
       "      <td>NaN</td>\n",
       "    </tr>\n",
       "    <tr>\n",
       "      <th>1963-01-24</th>\n",
       "      <td>NaN</td>\n",
       "    </tr>\n",
       "    <tr>\n",
       "      <th>1963-01-25</th>\n",
       "      <td>NaN</td>\n",
       "    </tr>\n",
       "    <tr>\n",
       "      <th>1963-01-26</th>\n",
       "      <td>NaN</td>\n",
       "    </tr>\n",
       "    <tr>\n",
       "      <th>1963-01-27</th>\n",
       "      <td>NaN</td>\n",
       "    </tr>\n",
       "    <tr>\n",
       "      <th>1963-01-28</th>\n",
       "      <td>NaN</td>\n",
       "    </tr>\n",
       "    <tr>\n",
       "      <th>1963-01-29</th>\n",
       "      <td>NaN</td>\n",
       "    </tr>\n",
       "    <tr>\n",
       "      <th>1963-01-30</th>\n",
       "      <td>NaN</td>\n",
       "    </tr>\n",
       "    <tr>\n",
       "      <th>1963-01-31</th>\n",
       "      <td>NaN</td>\n",
       "    </tr>\n",
       "    <tr>\n",
       "      <th>1963-02-01</th>\n",
       "      <td>6178.0</td>\n",
       "    </tr>\n",
       "  </tbody>\n",
       "</table>\n",
       "</div>"
      ],
      "text/plain": [
       "            MilesMM\n",
       "Month              \n",
       "1963-01-01   6827.0\n",
       "1963-01-02      NaN\n",
       "1963-01-03      NaN\n",
       "1963-01-04      NaN\n",
       "1963-01-05      NaN\n",
       "1963-01-06      NaN\n",
       "1963-01-07      NaN\n",
       "1963-01-08      NaN\n",
       "1963-01-09      NaN\n",
       "1963-01-10      NaN\n",
       "1963-01-11      NaN\n",
       "1963-01-12      NaN\n",
       "1963-01-13      NaN\n",
       "1963-01-14      NaN\n",
       "1963-01-15      NaN\n",
       "1963-01-16      NaN\n",
       "1963-01-17      NaN\n",
       "1963-01-18      NaN\n",
       "1963-01-19      NaN\n",
       "1963-01-20      NaN\n",
       "1963-01-21      NaN\n",
       "1963-01-22      NaN\n",
       "1963-01-23      NaN\n",
       "1963-01-24      NaN\n",
       "1963-01-25      NaN\n",
       "1963-01-26      NaN\n",
       "1963-01-27      NaN\n",
       "1963-01-28      NaN\n",
       "1963-01-29      NaN\n",
       "1963-01-30      NaN\n",
       "1963-01-31      NaN\n",
       "1963-02-01   6178.0"
      ]
     },
     "execution_count": 46,
     "metadata": {},
     "output_type": "execute_result"
    }
   ],
   "source": [
    "upsampled_miles_df.head(32)"
   ]
  },
  {
   "cell_type": "code",
   "execution_count": 47,
   "metadata": {
    "id": "W1okrJxzVbqn"
   },
   "outputs": [],
   "source": [
    "interpolated_miles_df=upsampled_miles_df.interpolate(method='linear') ## assumption of new data points in between two known discrete data set to find out all the value through curve known as linear curve"
   ]
  },
  {
   "cell_type": "code",
   "execution_count": 48,
   "metadata": {
    "colab": {
     "base_uri": "https://localhost:8080/",
     "height": 1000
    },
    "id": "UpZdGcaHVu5n",
    "outputId": "231f1b4a-4043-4168-ec56-5390e0b048ec"
   },
   "outputs": [
    {
     "data": {
      "text/html": [
       "<div>\n",
       "<style scoped>\n",
       "    .dataframe tbody tr th:only-of-type {\n",
       "        vertical-align: middle;\n",
       "    }\n",
       "\n",
       "    .dataframe tbody tr th {\n",
       "        vertical-align: top;\n",
       "    }\n",
       "\n",
       "    .dataframe thead th {\n",
       "        text-align: right;\n",
       "    }\n",
       "</style>\n",
       "<table border=\"1\" class=\"dataframe\">\n",
       "  <thead>\n",
       "    <tr style=\"text-align: right;\">\n",
       "      <th></th>\n",
       "      <th>MilesMM</th>\n",
       "    </tr>\n",
       "    <tr>\n",
       "      <th>Month</th>\n",
       "      <th></th>\n",
       "    </tr>\n",
       "  </thead>\n",
       "  <tbody>\n",
       "    <tr>\n",
       "      <th>1963-01-01</th>\n",
       "      <td>6827.000000</td>\n",
       "    </tr>\n",
       "    <tr>\n",
       "      <th>1963-01-02</th>\n",
       "      <td>6806.064516</td>\n",
       "    </tr>\n",
       "    <tr>\n",
       "      <th>1963-01-03</th>\n",
       "      <td>6785.129032</td>\n",
       "    </tr>\n",
       "    <tr>\n",
       "      <th>1963-01-04</th>\n",
       "      <td>6764.193548</td>\n",
       "    </tr>\n",
       "    <tr>\n",
       "      <th>1963-01-05</th>\n",
       "      <td>6743.258065</td>\n",
       "    </tr>\n",
       "    <tr>\n",
       "      <th>1963-01-06</th>\n",
       "      <td>6722.322581</td>\n",
       "    </tr>\n",
       "    <tr>\n",
       "      <th>1963-01-07</th>\n",
       "      <td>6701.387097</td>\n",
       "    </tr>\n",
       "    <tr>\n",
       "      <th>1963-01-08</th>\n",
       "      <td>6680.451613</td>\n",
       "    </tr>\n",
       "    <tr>\n",
       "      <th>1963-01-09</th>\n",
       "      <td>6659.516129</td>\n",
       "    </tr>\n",
       "    <tr>\n",
       "      <th>1963-01-10</th>\n",
       "      <td>6638.580645</td>\n",
       "    </tr>\n",
       "    <tr>\n",
       "      <th>1963-01-11</th>\n",
       "      <td>6617.645161</td>\n",
       "    </tr>\n",
       "    <tr>\n",
       "      <th>1963-01-12</th>\n",
       "      <td>6596.709677</td>\n",
       "    </tr>\n",
       "    <tr>\n",
       "      <th>1963-01-13</th>\n",
       "      <td>6575.774194</td>\n",
       "    </tr>\n",
       "    <tr>\n",
       "      <th>1963-01-14</th>\n",
       "      <td>6554.838710</td>\n",
       "    </tr>\n",
       "    <tr>\n",
       "      <th>1963-01-15</th>\n",
       "      <td>6533.903226</td>\n",
       "    </tr>\n",
       "    <tr>\n",
       "      <th>1963-01-16</th>\n",
       "      <td>6512.967742</td>\n",
       "    </tr>\n",
       "    <tr>\n",
       "      <th>1963-01-17</th>\n",
       "      <td>6492.032258</td>\n",
       "    </tr>\n",
       "    <tr>\n",
       "      <th>1963-01-18</th>\n",
       "      <td>6471.096774</td>\n",
       "    </tr>\n",
       "    <tr>\n",
       "      <th>1963-01-19</th>\n",
       "      <td>6450.161290</td>\n",
       "    </tr>\n",
       "    <tr>\n",
       "      <th>1963-01-20</th>\n",
       "      <td>6429.225806</td>\n",
       "    </tr>\n",
       "    <tr>\n",
       "      <th>1963-01-21</th>\n",
       "      <td>6408.290323</td>\n",
       "    </tr>\n",
       "    <tr>\n",
       "      <th>1963-01-22</th>\n",
       "      <td>6387.354839</td>\n",
       "    </tr>\n",
       "    <tr>\n",
       "      <th>1963-01-23</th>\n",
       "      <td>6366.419355</td>\n",
       "    </tr>\n",
       "    <tr>\n",
       "      <th>1963-01-24</th>\n",
       "      <td>6345.483871</td>\n",
       "    </tr>\n",
       "    <tr>\n",
       "      <th>1963-01-25</th>\n",
       "      <td>6324.548387</td>\n",
       "    </tr>\n",
       "    <tr>\n",
       "      <th>1963-01-26</th>\n",
       "      <td>6303.612903</td>\n",
       "    </tr>\n",
       "    <tr>\n",
       "      <th>1963-01-27</th>\n",
       "      <td>6282.677419</td>\n",
       "    </tr>\n",
       "    <tr>\n",
       "      <th>1963-01-28</th>\n",
       "      <td>6261.741935</td>\n",
       "    </tr>\n",
       "    <tr>\n",
       "      <th>1963-01-29</th>\n",
       "      <td>6240.806452</td>\n",
       "    </tr>\n",
       "    <tr>\n",
       "      <th>1963-01-30</th>\n",
       "      <td>6219.870968</td>\n",
       "    </tr>\n",
       "    <tr>\n",
       "      <th>1963-01-31</th>\n",
       "      <td>6198.935484</td>\n",
       "    </tr>\n",
       "    <tr>\n",
       "      <th>1963-02-01</th>\n",
       "      <td>6178.000000</td>\n",
       "    </tr>\n",
       "  </tbody>\n",
       "</table>\n",
       "</div>"
      ],
      "text/plain": [
       "                MilesMM\n",
       "Month                  \n",
       "1963-01-01  6827.000000\n",
       "1963-01-02  6806.064516\n",
       "1963-01-03  6785.129032\n",
       "1963-01-04  6764.193548\n",
       "1963-01-05  6743.258065\n",
       "1963-01-06  6722.322581\n",
       "1963-01-07  6701.387097\n",
       "1963-01-08  6680.451613\n",
       "1963-01-09  6659.516129\n",
       "1963-01-10  6638.580645\n",
       "1963-01-11  6617.645161\n",
       "1963-01-12  6596.709677\n",
       "1963-01-13  6575.774194\n",
       "1963-01-14  6554.838710\n",
       "1963-01-15  6533.903226\n",
       "1963-01-16  6512.967742\n",
       "1963-01-17  6492.032258\n",
       "1963-01-18  6471.096774\n",
       "1963-01-19  6450.161290\n",
       "1963-01-20  6429.225806\n",
       "1963-01-21  6408.290323\n",
       "1963-01-22  6387.354839\n",
       "1963-01-23  6366.419355\n",
       "1963-01-24  6345.483871\n",
       "1963-01-25  6324.548387\n",
       "1963-01-26  6303.612903\n",
       "1963-01-27  6282.677419\n",
       "1963-01-28  6261.741935\n",
       "1963-01-29  6240.806452\n",
       "1963-01-30  6219.870968\n",
       "1963-01-31  6198.935484\n",
       "1963-02-01  6178.000000"
      ]
     },
     "execution_count": 48,
     "metadata": {},
     "output_type": "execute_result"
    }
   ],
   "source": [
    "interpolated_miles_df.head(32)"
   ]
  },
  {
   "cell_type": "markdown",
   "metadata": {
    "id": "bQEe71DMXFQp"
   },
   "source": [
    "Time series - data Visualization"
   ]
  },
  {
   "cell_type": "code",
   "execution_count": 49,
   "metadata": {
    "id": "-Noj_HdbVzIP"
   },
   "outputs": [],
   "source": [
    "from matplotlib import pyplot as plt\n",
    "%matplotlib inline"
   ]
  },
  {
   "cell_type": "code",
   "execution_count": 50,
   "metadata": {},
   "outputs": [],
   "source": [
    "#Jab bhi aap matplotlib ka use karke graphs ya plots banate ho, toh:\n",
    "\n",
    "#Without %matplotlib inline: Plot ek alag window me open ho sakta hai.\n",
    "#With %matplotlib inline: Plot directly notebook ke andar hi dikhai dega."
   ]
  },
  {
   "cell_type": "code",
   "execution_count": 51,
   "metadata": {
    "id": "sxYxRmNKXYFW"
   },
   "outputs": [],
   "source": [
    "Dataviz_df=df2.copy()"
   ]
  },
  {
   "cell_type": "code",
   "execution_count": 52,
   "metadata": {
    "colab": {
     "base_uri": "https://localhost:8080/",
     "height": 206
    },
    "id": "VnG0_ivzXgKf",
    "outputId": "b638ae54-ffbc-4a2f-be77-6860c71e84b8"
   },
   "outputs": [
    {
     "data": {
      "text/html": [
       "<div>\n",
       "<style scoped>\n",
       "    .dataframe tbody tr th:only-of-type {\n",
       "        vertical-align: middle;\n",
       "    }\n",
       "\n",
       "    .dataframe tbody tr th {\n",
       "        vertical-align: top;\n",
       "    }\n",
       "\n",
       "    .dataframe thead th {\n",
       "        text-align: right;\n",
       "    }\n",
       "</style>\n",
       "<table border=\"1\" class=\"dataframe\">\n",
       "  <thead>\n",
       "    <tr style=\"text-align: right;\">\n",
       "      <th></th>\n",
       "      <th>date</th>\n",
       "      <th>births</th>\n",
       "    </tr>\n",
       "  </thead>\n",
       "  <tbody>\n",
       "    <tr>\n",
       "      <th>0</th>\n",
       "      <td>1959-01-01</td>\n",
       "      <td>35</td>\n",
       "    </tr>\n",
       "    <tr>\n",
       "      <th>1</th>\n",
       "      <td>1959-01-02</td>\n",
       "      <td>32</td>\n",
       "    </tr>\n",
       "    <tr>\n",
       "      <th>2</th>\n",
       "      <td>1959-01-03</td>\n",
       "      <td>30</td>\n",
       "    </tr>\n",
       "    <tr>\n",
       "      <th>3</th>\n",
       "      <td>1959-01-04</td>\n",
       "      <td>31</td>\n",
       "    </tr>\n",
       "    <tr>\n",
       "      <th>4</th>\n",
       "      <td>1959-01-05</td>\n",
       "      <td>44</td>\n",
       "    </tr>\n",
       "  </tbody>\n",
       "</table>\n",
       "</div>"
      ],
      "text/plain": [
       "        date  births\n",
       "0 1959-01-01      35\n",
       "1 1959-01-02      32\n",
       "2 1959-01-03      30\n",
       "3 1959-01-04      31\n",
       "4 1959-01-05      44"
      ]
     },
     "execution_count": 52,
     "metadata": {},
     "output_type": "execute_result"
    }
   ],
   "source": [
    "Dataviz_df.head()"
   ]
  },
  {
   "cell_type": "code",
   "execution_count": 53,
   "metadata": {
    "colab": {
     "base_uri": "https://localhost:8080/",
     "height": 447
    },
    "id": "xXWG7oVXXxHG",
    "outputId": "7e02eef7-bc73-44a3-8246-5e2e8df4fa63"
   },
   "outputs": [
    {
     "data": {
      "text/plain": [
       "<Axes: >"
      ]
     },
     "execution_count": 53,
     "metadata": {},
     "output_type": "execute_result"
    },
    {
     "data": {
      "image/png": "[encoded data removed]",
      "text/plain": [
       "<Figure size 640x480 with 1 Axes>"
      ]
     },
     "metadata": {},
     "output_type": "display_data"
    }
   ],
   "source": [
    "Dataviz_df['births'].plot()"
   ]
  },
  {
   "cell_type": "code",
   "execution_count": 54,
   "metadata": {
    "colab": {
     "base_uri": "https://localhost:8080/",
     "height": 300
    },
    "id": "vuzIjObLX5SW",
    "outputId": "8abad332-c4f3-44a3-8ef6-70386d5d2967"
   },
   "outputs": [
    {
     "data": {
      "text/html": [
       "<div>\n",
       "<style scoped>\n",
       "    .dataframe tbody tr th:only-of-type {\n",
       "        vertical-align: middle;\n",
       "    }\n",
       "\n",
       "    .dataframe tbody tr th {\n",
       "        vertical-align: top;\n",
       "    }\n",
       "\n",
       "    .dataframe thead th {\n",
       "        text-align: right;\n",
       "    }\n",
       "</style>\n",
       "<table border=\"1\" class=\"dataframe\">\n",
       "  <thead>\n",
       "    <tr style=\"text-align: right;\">\n",
       "      <th></th>\n",
       "      <th>date</th>\n",
       "      <th>births</th>\n",
       "    </tr>\n",
       "  </thead>\n",
       "  <tbody>\n",
       "    <tr>\n",
       "      <th>count</th>\n",
       "      <td>365</td>\n",
       "      <td>365.000000</td>\n",
       "    </tr>\n",
       "    <tr>\n",
       "      <th>mean</th>\n",
       "      <td>1959-07-02 00:00:00</td>\n",
       "      <td>41.980822</td>\n",
       "    </tr>\n",
       "    <tr>\n",
       "      <th>min</th>\n",
       "      <td>1959-01-01 00:00:00</td>\n",
       "      <td>23.000000</td>\n",
       "    </tr>\n",
       "    <tr>\n",
       "      <th>25%</th>\n",
       "      <td>1959-04-02 00:00:00</td>\n",
       "      <td>37.000000</td>\n",
       "    </tr>\n",
       "    <tr>\n",
       "      <th>50%</th>\n",
       "      <td>1959-07-02 00:00:00</td>\n",
       "      <td>42.000000</td>\n",
       "    </tr>\n",
       "    <tr>\n",
       "      <th>75%</th>\n",
       "      <td>1959-10-01 00:00:00</td>\n",
       "      <td>46.000000</td>\n",
       "    </tr>\n",
       "    <tr>\n",
       "      <th>max</th>\n",
       "      <td>1959-12-31 00:00:00</td>\n",
       "      <td>73.000000</td>\n",
       "    </tr>\n",
       "    <tr>\n",
       "      <th>std</th>\n",
       "      <td>NaN</td>\n",
       "      <td>7.348257</td>\n",
       "    </tr>\n",
       "  </tbody>\n",
       "</table>\n",
       "</div>"
      ],
      "text/plain": [
       "                      date      births\n",
       "count                  365  365.000000\n",
       "mean   1959-07-02 00:00:00   41.980822\n",
       "min    1959-01-01 00:00:00   23.000000\n",
       "25%    1959-04-02 00:00:00   37.000000\n",
       "50%    1959-07-02 00:00:00   42.000000\n",
       "75%    1959-10-01 00:00:00   46.000000\n",
       "max    1959-12-31 00:00:00   73.000000\n",
       "std                    NaN    7.348257"
      ]
     },
     "execution_count": 54,
     "metadata": {},
     "output_type": "execute_result"
    }
   ],
   "source": [
    "Dataviz_df.describe()"
   ]
  },
  {
   "cell_type": "code",
   "execution_count": 55,
   "metadata": {
    "id": "GHLMmKkfX5cJ"
   },
   "outputs": [],
   "source": [
    "Dataviz_df.index = Dataviz_df['date']"
   ]
  },
  {
   "cell_type": "code",
   "execution_count": 56,
   "metadata": {
    "colab": {
     "base_uri": "https://localhost:8080/",
     "height": 483
    },
    "id": "O4b_NGakX5i9",
    "outputId": "4474c95c-e207-4730-d1d6-7c329197d9aa"
   },
   "outputs": [
    {
     "data": {
      "text/plain": [
       "<Axes: xlabel='date'>"
      ]
     },
     "execution_count": 56,
     "metadata": {},
     "output_type": "execute_result"
    },
    {
     "data": {
      "image/png": "[encoded data removed]",
      "text/plain": [
       "<Figure size 640x480 with 1 Axes>"
      ]
     },
     "metadata": {},
     "output_type": "display_data"
    }
   ],
   "source": [
    "Dataviz_df['births'].plot()"
   ]
  },
  {
   "cell_type": "markdown",
   "metadata": {
    "id": "WVH5-cCRX5o2"
   },
   "source": [
    "Zooming IN"
   ]
  },
  {
   "cell_type": "code",
   "execution_count": 57,
   "metadata": {
    "id": "fcLKAPWfabWA"
   },
   "outputs": [],
   "source": [
    "Dataviz_df2=Dataviz_df[(Dataviz_df['date'] > '1959-01-01')&(Dataviz_df['date'] <= '1959-1-10')].copy() ## year-month-date for eg:- 1959-01-01 ## taking the smaller data from big data for visualization"
   ]
  },
  {
   "cell_type": "code",
   "execution_count": 58,
   "metadata": {
    "colab": {
     "base_uri": "https://localhost:8080/",
     "height": 238
    },
    "id": "LdMYWAtkX5yn",
    "outputId": "fbaf0325-585d-47a4-9a74-b3c72b282ca9"
   },
   "outputs": [
    {
     "data": {
      "text/html": [
       "<div>\n",
       "<style scoped>\n",
       "    .dataframe tbody tr th:only-of-type {\n",
       "        vertical-align: middle;\n",
       "    }\n",
       "\n",
       "    .dataframe tbody tr th {\n",
       "        vertical-align: top;\n",
       "    }\n",
       "\n",
       "    .dataframe thead th {\n",
       "        text-align: right;\n",
       "    }\n",
       "</style>\n",
       "<table border=\"1\" class=\"dataframe\">\n",
       "  <thead>\n",
       "    <tr style=\"text-align: right;\">\n",
       "      <th></th>\n",
       "      <th>date</th>\n",
       "      <th>births</th>\n",
       "    </tr>\n",
       "    <tr>\n",
       "      <th>date</th>\n",
       "      <th></th>\n",
       "      <th></th>\n",
       "    </tr>\n",
       "  </thead>\n",
       "  <tbody>\n",
       "    <tr>\n",
       "      <th>1959-01-02</th>\n",
       "      <td>1959-01-02</td>\n",
       "      <td>32</td>\n",
       "    </tr>\n",
       "    <tr>\n",
       "      <th>1959-01-03</th>\n",
       "      <td>1959-01-03</td>\n",
       "      <td>30</td>\n",
       "    </tr>\n",
       "    <tr>\n",
       "      <th>1959-01-04</th>\n",
       "      <td>1959-01-04</td>\n",
       "      <td>31</td>\n",
       "    </tr>\n",
       "    <tr>\n",
       "      <th>1959-01-05</th>\n",
       "      <td>1959-01-05</td>\n",
       "      <td>44</td>\n",
       "    </tr>\n",
       "    <tr>\n",
       "      <th>1959-01-06</th>\n",
       "      <td>1959-01-06</td>\n",
       "      <td>29</td>\n",
       "    </tr>\n",
       "    <tr>\n",
       "      <th>1959-01-07</th>\n",
       "      <td>1959-01-07</td>\n",
       "      <td>45</td>\n",
       "    </tr>\n",
       "    <tr>\n",
       "      <th>1959-01-08</th>\n",
       "      <td>1959-01-08</td>\n",
       "      <td>43</td>\n",
       "    </tr>\n",
       "    <tr>\n",
       "      <th>1959-01-09</th>\n",
       "      <td>1959-01-09</td>\n",
       "      <td>38</td>\n",
       "    </tr>\n",
       "    <tr>\n",
       "      <th>1959-01-10</th>\n",
       "      <td>1959-01-10</td>\n",
       "      <td>27</td>\n",
       "    </tr>\n",
       "  </tbody>\n",
       "</table>\n",
       "</div>"
      ],
      "text/plain": [
       "                 date  births\n",
       "date                         \n",
       "1959-01-02 1959-01-02      32\n",
       "1959-01-03 1959-01-03      30\n",
       "1959-01-04 1959-01-04      31\n",
       "1959-01-05 1959-01-05      44\n",
       "1959-01-06 1959-01-06      29\n",
       "1959-01-07 1959-01-07      45\n",
       "1959-01-08 1959-01-08      43\n",
       "1959-01-09 1959-01-09      38\n",
       "1959-01-10 1959-01-10      27"
      ]
     },
     "execution_count": 58,
     "metadata": {},
     "output_type": "execute_result"
    }
   ],
   "source": [
    "Dataviz_df2"
   ]
  },
  {
   "cell_type": "code",
   "execution_count": 59,
   "metadata": {
    "colab": {
     "base_uri": "https://localhost:8080/",
     "height": 499
    },
    "id": "-qb1HC9EX5tq",
    "outputId": "76f67de3-c062-4933-dd5a-d35295d38099"
   },
   "outputs": [
    {
     "data": {
      "text/plain": [
       "<Axes: xlabel='date'>"
      ]
     },
     "execution_count": 59,
     "metadata": {},
     "output_type": "execute_result"
    },
    {
     "data": {
      "image/png": "[encoded data removed]",
      "text/plain": [
       "<Figure size 640x480 with 1 Axes>"
      ]
     },
     "metadata": {},
     "output_type": "display_data"
    }
   ],
   "source": [
    "Dataviz_df2['births'].plot()\n"
   ]
  },
  {
   "cell_type": "markdown",
   "metadata": {
    "id": "FD19aVraX53O"
   },
   "source": [
    "Trendline"
   ]
  },
  {
   "cell_type": "code",
   "execution_count": 60,
   "metadata": {
    "id": "DPskcJZfX57k"
   },
   "outputs": [],
   "source": [
    "import seaborn as sns"
   ]
  },
  {
   "cell_type": "code",
   "execution_count": 61,
   "metadata": {
    "colab": {
     "base_uri": "https://localhost:8080/",
     "height": 447
    },
    "id": "eSofLjYTX5_f",
    "outputId": "4c17d72b-4faa-4033-8370-49792eeda388"
   },
   "outputs": [
    {
     "data": {
      "text/plain": [
       "<Axes: ylabel='births'>"
      ]
     },
     "execution_count": 61,
     "metadata": {},
     "output_type": "execute_result"
    },
    {
     "data": {
      "image/png": "[encoded data removed]",
      "text/plain": [
       "<Figure size 640x480 with 1 Axes>"
      ]
     },
     "metadata": {},
     "output_type": "display_data"
    }
   ],
   "source": [
    "sns.regplot(x=df2.index.values,y=df2['births'])"
   ]
  },
  {
   "cell_type": "code",
   "execution_count": 62,
   "metadata": {
    "colab": {
     "base_uri": "https://localhost:8080/",
     "height": 447
    },
    "id": "d3Y9iP5DclXe",
    "outputId": "3240f105-9b87-4c2b-b72b-0c80aa2f0303"
   },
   "outputs": [
    {
     "data": {
      "text/plain": [
       "<Axes: ylabel='births'>"
      ]
     },
     "execution_count": 62,
     "metadata": {},
     "output_type": "execute_result"
    },
    {
     "data": {
      "image/png": "[encoded data removed]",
      "text/plain": [
       "<Figure size 640x480 with 1 Axes>"
      ]
     },
     "metadata": {},
     "output_type": "display_data"
    }
   ],
   "source": [
    "sns.regplot(x=df2.index.values,y=df2['births'],order=2)"
   ]
  },
  {
   "cell_type": "code",
   "execution_count": 63,
   "metadata": {
    "id": "lTUz7Z18dvRO"
   },
   "outputs": [],
   "source": [
    "miles_df=pd.read_csv('us-airlines-monthly-aircraft-miles-flown.csv',header=0,parse_dates=[0])"
   ]
  },
  {
   "cell_type": "code",
   "execution_count": 64,
   "metadata": {
    "colab": {
     "base_uri": "https://localhost:8080/",
     "height": 206
    },
    "id": "LfJG9NPFecLl",
    "outputId": "87b8fdb5-bfe1-4465-8ba0-954762e64392"
   },
   "outputs": [
    {
     "data": {
      "text/html": [
       "<div>\n",
       "<style scoped>\n",
       "    .dataframe tbody tr th:only-of-type {\n",
       "        vertical-align: middle;\n",
       "    }\n",
       "\n",
       "    .dataframe tbody tr th {\n",
       "        vertical-align: top;\n",
       "    }\n",
       "\n",
       "    .dataframe thead th {\n",
       "        text-align: right;\n",
       "    }\n",
       "</style>\n",
       "<table border=\"1\" class=\"dataframe\">\n",
       "  <thead>\n",
       "    <tr style=\"text-align: right;\">\n",
       "      <th></th>\n",
       "      <th>Month</th>\n",
       "      <th>MilesMM</th>\n",
       "    </tr>\n",
       "  </thead>\n",
       "  <tbody>\n",
       "    <tr>\n",
       "      <th>0</th>\n",
       "      <td>1963-01-01</td>\n",
       "      <td>6827</td>\n",
       "    </tr>\n",
       "    <tr>\n",
       "      <th>1</th>\n",
       "      <td>1963-02-01</td>\n",
       "      <td>6178</td>\n",
       "    </tr>\n",
       "    <tr>\n",
       "      <th>2</th>\n",
       "      <td>1963-03-01</td>\n",
       "      <td>7084</td>\n",
       "    </tr>\n",
       "    <tr>\n",
       "      <th>3</th>\n",
       "      <td>1963-04-01</td>\n",
       "      <td>8162</td>\n",
       "    </tr>\n",
       "    <tr>\n",
       "      <th>4</th>\n",
       "      <td>1963-05-01</td>\n",
       "      <td>8462</td>\n",
       "    </tr>\n",
       "  </tbody>\n",
       "</table>\n",
       "</div>"
      ],
      "text/plain": [
       "       Month  MilesMM\n",
       "0 1963-01-01     6827\n",
       "1 1963-02-01     6178\n",
       "2 1963-03-01     7084\n",
       "3 1963-04-01     8162\n",
       "4 1963-05-01     8462"
      ]
     },
     "execution_count": 64,
     "metadata": {},
     "output_type": "execute_result"
    }
   ],
   "source": [
    "miles_df.head()"
   ]
  },
  {
   "cell_type": "code",
   "execution_count": 65,
   "metadata": {
    "colab": {
     "base_uri": "https://localhost:8080/",
     "height": 447
    },
    "id": "tZjwRVe3e47e",
    "outputId": "0bb6062c-560d-4b16-bec7-1a45f91b84c9"
   },
   "outputs": [
    {
     "data": {
      "text/plain": [
       "<Axes: >"
      ]
     },
     "execution_count": 65,
     "metadata": {},
     "output_type": "execute_result"
    },
    {
     "data": {
      "image/png": "[encoded data removed]",
      "text/plain": [
       "<Figure size 640x480 with 1 Axes>"
      ]
     },
     "metadata": {},
     "output_type": "display_data"
    }
   ],
   "source": [
    "miles_df['MilesMM'].plot()"
   ]
  },
  {
   "cell_type": "code",
   "execution_count": 66,
   "metadata": {
    "colab": {
     "base_uri": "https://localhost:8080/",
     "height": 447
    },
    "id": "airA8Hd1efz1",
    "outputId": "772e42ca-9258-4208-c038-eddbb2af4508"
   },
   "outputs": [
    {
     "data": {
      "text/plain": [
       "<Axes: ylabel='MilesMM'>"
      ]
     },
     "execution_count": 66,
     "metadata": {},
     "output_type": "execute_result"
    },
    {
     "data": {
      "image/png": "[encoded data removed]",
      "text/plain": [
       "<Figure size 640x480 with 1 Axes>"
      ]
     },
     "metadata": {},
     "output_type": "display_data"
    }
   ],
   "source": [
    "sns.regplot(x=miles_df.index.values,y=miles_df['MilesMM'])"
   ]
  },
  {
   "cell_type": "code",
   "execution_count": 67,
   "metadata": {
    "colab": {
     "base_uri": "https://localhost:8080/",
     "height": 447
    },
    "id": "FWhRuv5KeoyN",
    "outputId": "b42a4397-1593-4831-af35-d7f6e75bd525"
   },
   "outputs": [
    {
     "data": {
      "text/plain": [
       "<Axes: ylabel='MilesMM'>"
      ]
     },
     "execution_count": 67,
     "metadata": {},
     "output_type": "execute_result"
    },
    {
     "data": {
      "image/png": "[encoded data removed]",
      "text/plain": [
       "<Figure size 640x480 with 1 Axes>"
      ]
     },
     "metadata": {},
     "output_type": "display_data"
    }
   ],
   "source": [
    "sns.regplot(x=miles_df.index.values,y=miles_df['MilesMM'],order=2)"
   ]
  },
  {
   "cell_type": "code",
   "execution_count": 68,
   "metadata": {
    "id": "2m1wPXRjfUs1"
   },
   "outputs": [],
   "source": [
    "## what are the components of time series"
   ]
  },
  {
   "cell_type": "code",
   "execution_count": 69,
   "metadata": {
    "id": "wmQ45CD6fr0N"
   },
   "outputs": [],
   "source": [
    "#REMOVING SEASONALITY"
   ]
  },
  {
   "cell_type": "code",
   "execution_count": 70,
   "metadata": {},
   "outputs": [],
   "source": [
    "#Seasonality ek repeating pattern hota hai jo specific time intervals par data me appear hota hai. Example:\n",
    "\n",
    "#Daily: Har din morning me zyada sales.\n",
    "#Weekly: Har weekend me shopping zyada hoti hai"
   ]
  },
  {
   "cell_type": "code",
   "execution_count": 71,
   "metadata": {},
   "outputs": [],
   "source": [
    "miles_df['year'] = miles_df['Month'].dt.year"
   ]
  },
  {
   "cell_type": "code",
   "execution_count": 72,
   "metadata": {},
   "outputs": [
    {
     "data": {
      "text/html": [
       "<div>\n",
       "<style scoped>\n",
       "    .dataframe tbody tr th:only-of-type {\n",
       "        vertical-align: middle;\n",
       "    }\n",
       "\n",
       "    .dataframe tbody tr th {\n",
       "        vertical-align: top;\n",
       "    }\n",
       "\n",
       "    .dataframe thead th {\n",
       "        text-align: right;\n",
       "    }\n",
       "</style>\n",
       "<table border=\"1\" class=\"dataframe\">\n",
       "  <thead>\n",
       "    <tr style=\"text-align: right;\">\n",
       "      <th></th>\n",
       "      <th>Month</th>\n",
       "      <th>MilesMM</th>\n",
       "      <th>year</th>\n",
       "    </tr>\n",
       "  </thead>\n",
       "  <tbody>\n",
       "    <tr>\n",
       "      <th>0</th>\n",
       "      <td>1963-01-01</td>\n",
       "      <td>6827</td>\n",
       "      <td>1963</td>\n",
       "    </tr>\n",
       "    <tr>\n",
       "      <th>1</th>\n",
       "      <td>1963-02-01</td>\n",
       "      <td>6178</td>\n",
       "      <td>1963</td>\n",
       "    </tr>\n",
       "    <tr>\n",
       "      <th>2</th>\n",
       "      <td>1963-03-01</td>\n",
       "      <td>7084</td>\n",
       "      <td>1963</td>\n",
       "    </tr>\n",
       "    <tr>\n",
       "      <th>3</th>\n",
       "      <td>1963-04-01</td>\n",
       "      <td>8162</td>\n",
       "      <td>1963</td>\n",
       "    </tr>\n",
       "    <tr>\n",
       "      <th>4</th>\n",
       "      <td>1963-05-01</td>\n",
       "      <td>8462</td>\n",
       "      <td>1963</td>\n",
       "    </tr>\n",
       "    <tr>\n",
       "      <th>...</th>\n",
       "      <td>...</td>\n",
       "      <td>...</td>\n",
       "      <td>...</td>\n",
       "    </tr>\n",
       "    <tr>\n",
       "      <th>91</th>\n",
       "      <td>1970-08-01</td>\n",
       "      <td>14057</td>\n",
       "      <td>1970</td>\n",
       "    </tr>\n",
       "    <tr>\n",
       "      <th>92</th>\n",
       "      <td>1970-09-01</td>\n",
       "      <td>16234</td>\n",
       "      <td>1970</td>\n",
       "    </tr>\n",
       "    <tr>\n",
       "      <th>93</th>\n",
       "      <td>1970-10-01</td>\n",
       "      <td>12389</td>\n",
       "      <td>1970</td>\n",
       "    </tr>\n",
       "    <tr>\n",
       "      <th>94</th>\n",
       "      <td>1970-11-01</td>\n",
       "      <td>11595</td>\n",
       "      <td>1970</td>\n",
       "    </tr>\n",
       "    <tr>\n",
       "      <th>95</th>\n",
       "      <td>1970-12-01</td>\n",
       "      <td>12772</td>\n",
       "      <td>1970</td>\n",
       "    </tr>\n",
       "  </tbody>\n",
       "</table>\n",
       "<p>96 rows × 3 columns</p>\n",
       "</div>"
      ],
      "text/plain": [
       "        Month  MilesMM  year\n",
       "0  1963-01-01     6827  1963\n",
       "1  1963-02-01     6178  1963\n",
       "2  1963-03-01     7084  1963\n",
       "3  1963-04-01     8162  1963\n",
       "4  1963-05-01     8462  1963\n",
       "..        ...      ...   ...\n",
       "91 1970-08-01    14057  1970\n",
       "92 1970-09-01    16234  1970\n",
       "93 1970-10-01    12389  1970\n",
       "94 1970-11-01    11595  1970\n",
       "95 1970-12-01    12772  1970\n",
       "\n",
       "[96 rows x 3 columns]"
      ]
     },
     "execution_count": 72,
     "metadata": {},
     "output_type": "execute_result"
    }
   ],
   "source": [
    "miles_df"
   ]
  },
  {
   "cell_type": "code",
   "execution_count": 73,
   "metadata": {},
   "outputs": [
    {
     "data": {
      "text/plain": [
       "year\n",
       "1963     8300.250000\n",
       "1964     8849.333333\n",
       "1965     9619.250000\n",
       "1966     9929.500000\n",
       "1967    10542.916667\n",
       "1968    10747.916667\n",
       "1969    11972.000000\n",
       "1970    13124.750000\n",
       "Name: MilesMM, dtype: float64"
      ]
     },
     "execution_count": 73,
     "metadata": {},
     "output_type": "execute_result"
    }
   ],
   "source": [
    "miles_df.groupby('year')['MilesMM'].mean()"
   ]
  },
  {
   "cell_type": "code",
   "execution_count": 74,
   "metadata": {},
   "outputs": [
    {
     "data": {
      "text/plain": [
       "<Axes: xlabel='year'>"
      ]
     },
     "execution_count": 74,
     "metadata": {},
     "output_type": "execute_result"
    },
    {
     "data": {
      "image/png": "[encoded data removed]",
      "text/plain": [
       "<Figure size 640x480 with 1 Axes>"
      ]
     },
     "metadata": {},
     "output_type": "display_data"
    }
   ],
   "source": [
    "miles_df.groupby('year')['MilesMM'].mean().plot()"
   ]
  },
  {
   "cell_type": "markdown",
   "metadata": {},
   "source": [
    "# creating lag plots"
   ]
  },
  {
   "cell_type": "code",
   "execution_count": 85,
   "metadata": {},
   "outputs": [],
   "source": [
    "miles_df['lag1'] = miles_df['MilesMM'].shift(1)"
   ]
  },
  {
   "cell_type": "code",
   "execution_count": 86,
   "metadata": {},
   "outputs": [
    {
     "data": {
      "text/html": [
       "<div>\n",
       "<style scoped>\n",
       "    .dataframe tbody tr th:only-of-type {\n",
       "        vertical-align: middle;\n",
       "    }\n",
       "\n",
       "    .dataframe tbody tr th {\n",
       "        vertical-align: top;\n",
       "    }\n",
       "\n",
       "    .dataframe thead th {\n",
       "        text-align: right;\n",
       "    }\n",
       "</style>\n",
       "<table border=\"1\" class=\"dataframe\">\n",
       "  <thead>\n",
       "    <tr style=\"text-align: right;\">\n",
       "      <th></th>\n",
       "      <th>Month</th>\n",
       "      <th>MilesMM</th>\n",
       "      <th>year</th>\n",
       "      <th>lag1</th>\n",
       "    </tr>\n",
       "  </thead>\n",
       "  <tbody>\n",
       "    <tr>\n",
       "      <th>0</th>\n",
       "      <td>1963-01-01</td>\n",
       "      <td>6827</td>\n",
       "      <td>1963</td>\n",
       "      <td>NaN</td>\n",
       "    </tr>\n",
       "    <tr>\n",
       "      <th>1</th>\n",
       "      <td>1963-02-01</td>\n",
       "      <td>6178</td>\n",
       "      <td>1963</td>\n",
       "      <td>6827.0</td>\n",
       "    </tr>\n",
       "    <tr>\n",
       "      <th>2</th>\n",
       "      <td>1963-03-01</td>\n",
       "      <td>7084</td>\n",
       "      <td>1963</td>\n",
       "      <td>6178.0</td>\n",
       "    </tr>\n",
       "    <tr>\n",
       "      <th>3</th>\n",
       "      <td>1963-04-01</td>\n",
       "      <td>8162</td>\n",
       "      <td>1963</td>\n",
       "      <td>7084.0</td>\n",
       "    </tr>\n",
       "    <tr>\n",
       "      <th>4</th>\n",
       "      <td>1963-05-01</td>\n",
       "      <td>8462</td>\n",
       "      <td>1963</td>\n",
       "      <td>8162.0</td>\n",
       "    </tr>\n",
       "  </tbody>\n",
       "</table>\n",
       "</div>"
      ],
      "text/plain": [
       "       Month  MilesMM  year    lag1\n",
       "0 1963-01-01     6827  1963     NaN\n",
       "1 1963-02-01     6178  1963  6827.0\n",
       "2 1963-03-01     7084  1963  6178.0\n",
       "3 1963-04-01     8162  1963  7084.0\n",
       "4 1963-05-01     8462  1963  8162.0"
      ]
     },
     "execution_count": 86,
     "metadata": {},
     "output_type": "execute_result"
    }
   ],
   "source": [
    "miles_df.head()"
   ]
  },
  {
   "cell_type": "code",
   "execution_count": 87,
   "metadata": {},
   "outputs": [
    {
     "data": {
      "text/plain": [
       "<Axes: xlabel='lag1', ylabel='MilesMM'>"
      ]
     },
     "execution_count": 87,
     "metadata": {},
     "output_type": "execute_result"
    },
    {
     "data": {
      "image/png": "[encoded data removed]",
      "text/plain": [
       "<Figure size 640x480 with 1 Axes>"
      ]
     },
     "metadata": {},
     "output_type": "display_data"
    }
   ],
   "source": [
    "sns.scatterplot(x=miles_df['lag1'],y=miles_df['MilesMM'])"
   ]
  },
  {
   "cell_type": "code",
   "execution_count": 88,
   "metadata": {},
   "outputs": [],
   "source": [
    "from pandas.plotting import lag_plot"
   ]
  },
  {
   "cell_type": "code",
   "execution_count": 89,
   "metadata": {},
   "outputs": [
    {
     "data": {
      "text/plain": [
       "<Axes: xlabel='y(t)', ylabel='y(t + 1)'>"
      ]
     },
     "execution_count": 89,
     "metadata": {},
     "output_type": "execute_result"
    },
    {
     "data": {
      "image/png": "[encoded data removed]",
      "text/plain": [
       "<Figure size 640x480 with 1 Axes>"
      ]
     },
     "metadata": {},
     "output_type": "display_data"
    }
   ],
   "source": [
    "lag_plot(miles_df['MilesMM'])"
   ]
  },
  {
   "cell_type": "code",
   "execution_count": 90,
   "metadata": {},
   "outputs": [],
   "source": [
    "from pandas.plotting import autocorrelation_plot"
   ]
  },
  {
   "cell_type": "code",
   "execution_count": 91,
   "metadata": {},
   "outputs": [
    {
     "data": {
      "text/plain": [
       "<Axes: xlabel='Lag', ylabel='Autocorrelation'>"
      ]
     },
     "execution_count": 91,
     "metadata": {},
     "output_type": "execute_result"
    },
    {
     "data": {
      "image/png": "[encoded data removed]",
      "text/plain": [
       "<Figure size 640x480 with 1 Axes>"
      ]
     },
     "metadata": {},
     "output_type": "display_data"
    }
   ],
   "source": [
    "autocorrelation_plot(miles_df['MilesMM'])"
   ]
  },
  {
   "cell_type": "code",
   "execution_count": null,
   "metadata": {},
   "outputs": [],
   "source": []
  }
 ],
 "metadata": {
  "colab": {
   "provenance": []
  },
  "kernelspec": {
   "display_name": "Python 3 (ipykernel)",
   "language": "python",
   "name": "python3"
  },
  "language_info": {
   "codemirror_mode": {
    "name": "ipython",
    "version": 3
   },
   "file_extension": ".py",
   "mimetype": "text/x-python",
   "name": "python",
   "nbconvert_exporter": "python",
   "pygments_lexer": "ipython3",
   "version": "3.11.5"
  }
 },
 "nbformat": 4,
 "nbformat_minor": 1
}
